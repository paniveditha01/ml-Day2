{
 "cells": [
  {
   "cell_type": "code",
   "execution_count": 13,
   "id": "23663ed3-5559-4d8f-a55f-65fa8e4f5c3e",
   "metadata": {},
   "outputs": [],
   "source": [
    "#importing!\n",
    "import numpy as np"
   ]
  },
  {
   "cell_type": "code",
   "execution_count": 14,
   "id": "86957733-9b4e-4d12-be1f-22c949a29b9a",
   "metadata": {},
   "outputs": [],
   "source": [
    "#array!\n",
    "#1D\n",
    "ar1=np.array([34,56,23,12])\n",
    "ar2=np.array([78,90,34,76])"
   ]
  },
  {
   "cell_type": "code",
   "execution_count": 15,
   "id": "5dc4c897-7b0b-4747-b718-8d7a10a7b267",
   "metadata": {},
   "outputs": [
    {
     "data": {
      "text/plain": [
       "array([112, 146,  57,  88])"
      ]
     },
     "execution_count": 15,
     "metadata": {},
     "output_type": "execute_result"
    }
   ],
   "source": [
    "ar1+ar2"
   ]
  },
  {
   "cell_type": "code",
   "execution_count": 16,
   "id": "3174b3b2-8a48-41bd-9e2d-040bcc130fc6",
   "metadata": {},
   "outputs": [
    {
     "name": "stdout",
     "output_type": "stream",
     "text": [
      "[[1. 1. 1.]\n",
      " [1. 1. 1.]]\n"
     ]
    }
   ],
   "source": [
    "#intrinsic creation of arrays!\n",
    "ar3=np.ones((2,3))\n",
    "print(ar3)"
   ]
  },
  {
   "cell_type": "code",
   "execution_count": 17,
   "id": "8a2cf109-2b40-4e85-8e27-09d80492f4a8",
   "metadata": {},
   "outputs": [
    {
     "name": "stdout",
     "output_type": "stream",
     "text": [
      "[[0. 0. 0. 0. 0.]\n",
      " [0. 0. 0. 0. 0.]\n",
      " [0. 0. 0. 0. 0.]\n",
      " [0. 0. 0. 0. 0.]]\n"
     ]
    }
   ],
   "source": [
    "ar3=np.zeros((4,5))\n",
    "print(ar3)"
   ]
  },
  {
   "cell_type": "code",
   "execution_count": 18,
   "id": "9268fa49-baa2-4494-af4a-53c91d65c1b3",
   "metadata": {},
   "outputs": [
    {
     "name": "stdout",
     "output_type": "stream",
     "text": [
      "[ 5  6  7  8  9 10 11 12 13 14 15 16 17 18 19 20 21 22 23 24 25 26 27 28\n",
      " 29 30 31 32 33 34 35 36 37 38 39 40 41 42 43 44 45 46 47 48 49]\n"
     ]
    }
   ],
   "source": [
    "ar6=np.arange(5,50)\n",
    "print(ar6)"
   ]
  },
  {
   "cell_type": "code",
   "execution_count": 19,
   "id": "a8ef073e-f93b-4327-88d8-82aad21a1b3c",
   "metadata": {},
   "outputs": [
    {
     "name": "stdout",
     "output_type": "stream",
     "text": [
      "[ 5  7  9 11 13 15 17 19 21 23 25 27 29 31 33 35 37 39 41 43 45 47 49]\n"
     ]
    }
   ],
   "source": [
    "ar6=np.arange(5,50,2) #start,stop,step\n",
    "print(ar6)"
   ]
  },
  {
   "cell_type": "code",
   "execution_count": 20,
   "id": "b70ae5df-5230-4afc-89d0-002a380a3348",
   "metadata": {},
   "outputs": [
    {
     "name": "stdout",
     "output_type": "stream",
     "text": [
      "[   8   16   24   32   40   48   56   64   72   80   88   96  104  112\n",
      "  120  128  136  144  152  160  168  176  184  192  200  208  216  224\n",
      "  232  240  248  256  264  272  280  288  296  304  312  320  328  336\n",
      "  344  352  360  368  376  384  392  400  408  416  424  432  440  448\n",
      "  456  464  472  480  488  496  504  512  520  528  536  544  552  560\n",
      "  568  576  584  592  600  608  616  624  632  640  648  656  664  672\n",
      "  680  688  696  704  712  720  728  736  744  752  760  768  776  784\n",
      "  792  800  808  816  824  832  840  848  856  864  872  880  888  896\n",
      "  904  912  920  928  936  944  952  960  968  976  984  992 1000]\n"
     ]
    }
   ],
   "source": [
    "ar7=np.arange(8,1001,8)\n",
    "print(ar7)"
   ]
  },
  {
   "cell_type": "code",
   "execution_count": 21,
   "id": "316e95de-b1cd-4ba0-a1a9-fd33c5fbf16d",
   "metadata": {},
   "outputs": [
    {
     "data": {
      "text/plain": [
       "2"
      ]
     },
     "execution_count": 21,
     "metadata": {},
     "output_type": "execute_result"
    }
   ],
   "source": [
    "np.ndim(ar3)#dimension"
   ]
  },
  {
   "cell_type": "code",
   "execution_count": 22,
   "id": "0ba29ae1-6682-443e-8553-64d671003a90",
   "metadata": {},
   "outputs": [
    {
     "data": {
      "text/plain": [
       "(4, 5)"
      ]
     },
     "execution_count": 22,
     "metadata": {},
     "output_type": "execute_result"
    }
   ],
   "source": [
    "np.shape(ar3)"
   ]
  },
  {
   "cell_type": "code",
   "execution_count": 23,
   "id": "55b47ce7-4203-4454-b850-9cb1b598a4dd",
   "metadata": {},
   "outputs": [
    {
     "name": "stdout",
     "output_type": "stream",
     "text": [
      "[[3 4 5]\n",
      " [1 2 3]]\n"
     ]
    }
   ],
   "source": [
    "#2D\n",
    "ar8=np.array([[3,4,5],[1,2,3]])\n",
    "print(ar8)"
   ]
  },
  {
   "cell_type": "code",
   "execution_count": 24,
   "id": "73b8a092-08a4-4812-88bb-d2af7eadb8fe",
   "metadata": {},
   "outputs": [
    {
     "name": "stdout",
     "output_type": "stream",
     "text": [
      "[[[3 4 5]\n",
      "  [1 2 3]]\n",
      "\n",
      " [[3 4 5]\n",
      "  [1 2 3]]]\n"
     ]
    }
   ],
   "source": [
    "ar9=np.array([[[3,4,5],[1,2,3]],[[3,4,5],[1,2,3]]]) #sets of 2D array\n",
    "print(ar9)"
   ]
  },
  {
   "cell_type": "markdown",
   "id": "b5510bb9-b037-477c-b1c8-3d138d4a5d82",
   "metadata": {},
   "source": [
    "Statistics"
   ]
  },
  {
   "cell_type": "code",
   "execution_count": 25,
   "id": "d3edbd22-6eb2-49fb-95e8-a45449a3961e",
   "metadata": {},
   "outputs": [],
   "source": [
    "m=np.array([89,90,43,46,12,37])"
   ]
  },
  {
   "cell_type": "code",
   "execution_count": 26,
   "id": "bd5b15df-44e6-4053-af98-a116d2d2b3ff",
   "metadata": {},
   "outputs": [
    {
     "name": "stdout",
     "output_type": "stream",
     "text": [
      "52.833333333333336\n"
     ]
    }
   ],
   "source": [
    "Avg=np.mean(m)\n",
    "print(Avg)"
   ]
  },
  {
   "cell_type": "code",
   "execution_count": 27,
   "id": "df5bb244-04be-436f-878c-95d36262e10f",
   "metadata": {},
   "outputs": [
    {
     "name": "stdout",
     "output_type": "stream",
     "text": [
      "44.5\n"
     ]
    }
   ],
   "source": [
    "med=np.median(m)\n",
    "print(med)"
   ]
  },
  {
   "cell_type": "code",
   "execution_count": 28,
   "id": "fe3d8c3c-d284-4d48-9199-04778b9805dc",
   "metadata": {},
   "outputs": [
    {
     "name": "stdout",
     "output_type": "stream",
     "text": [
      "28.139039705639487\n"
     ]
    }
   ],
   "source": [
    "sd=np.std(m)\n",
    "print(sd)"
   ]
  },
  {
   "cell_type": "code",
   "execution_count": 29,
   "id": "19fcd61e-3a31-4c07-be6b-5ec53ff598bb",
   "metadata": {},
   "outputs": [],
   "source": [
    "from numpy import random as rd\n",
    "#from parent import child as nick name"
   ]
  },
  {
   "cell_type": "code",
   "execution_count": 30,
   "id": "a2a140db-6414-4e19-b4d9-8d2931293230",
   "metadata": {},
   "outputs": [
    {
     "name": "stdout",
     "output_type": "stream",
     "text": [
      "21\n"
     ]
    }
   ],
   "source": [
    "r1=rd.randint(90)\n",
    "print(r1)"
   ]
  },
  {
   "cell_type": "code",
   "execution_count": 31,
   "id": "ecff9f7f-b8c9-40c7-9dc1-0da72597ce0e",
   "metadata": {},
   "outputs": [
    {
     "name": "stdout",
     "output_type": "stream",
     "text": [
      "21\n"
     ]
    }
   ],
   "source": [
    "r2=rd.randint(90,size=9)\n",
    "print(r1)"
   ]
  },
  {
   "cell_type": "code",
   "execution_count": 32,
   "id": "be3ca3f7-7a9c-416e-bc24-cae7b4c19053",
   "metadata": {},
   "outputs": [
    {
     "name": "stdout",
     "output_type": "stream",
     "text": [
      "[[50 93  9]\n",
      " [69 84 16]]\n"
     ]
    }
   ],
   "source": [
    "r3=rd.randint(100,size=(2,3)) #limit,size=(row,col)\n",
    "print(r3)"
   ]
  },
  {
   "cell_type": "code",
   "execution_count": 33,
   "id": "3fc3bff3-ebaf-46a3-80e8-d53741a17194",
   "metadata": {},
   "outputs": [
    {
     "name": "stdout",
     "output_type": "stream",
     "text": [
      "[0.39003985 5.54564147 2.26902204 3.74302063 7.05333743 4.28606469\n",
      " 6.34685804 3.28720184 5.97135312]\n"
     ]
    }
   ],
   "source": [
    "r4=10*(rd.rand(9))#0to1\n",
    "print(r4)"
   ]
  },
  {
   "cell_type": "code",
   "execution_count": 34,
   "id": "ea0b7fe5-c167-47ac-8700-510338b9dce0",
   "metadata": {},
   "outputs": [
    {
     "name": "stdout",
     "output_type": "stream",
     "text": [
      "[0.1952215  0.35682756 0.88721407 0.46059017 0.59920244 0.84020619\n",
      " 0.02438816 0.88151811 0.42125257]\n"
     ]
    }
   ],
   "source": [
    "r4=rd.rand(9) #0to1\n",
    "print(r4)"
   ]
  },
  {
   "cell_type": "code",
   "execution_count": 35,
   "id": "cec966d8-af36-4823-a376-f37f897440a3",
   "metadata": {},
   "outputs": [
    {
     "name": "stdout",
     "output_type": "stream",
     "text": [
      "[[0.99518848 0.95469571]\n",
      " [0.62773562 0.38040949]\n",
      " [0.0643636  0.86153858]\n",
      " [0.97071079 0.8017282 ]\n",
      " [0.59236293 0.31930864]\n",
      " [0.22090608 0.21685326]\n",
      " [0.65157036 0.55322839]\n",
      " [0.24325764 0.04628647]\n",
      " [0.91374616 0.3817408 ]]\n"
     ]
    }
   ],
   "source": [
    "r5=rd.rand(9,2)\n",
    "print(r5)"
   ]
  },
  {
   "cell_type": "code",
   "execution_count": 36,
   "id": "770274c8-2142-4fd1-bf36-0924212d5495",
   "metadata": {},
   "outputs": [
    {
     "name": "stdout",
     "output_type": "stream",
     "text": [
      "[[44 47 64 67 67]\n",
      " [ 9 83 21 36 87]\n",
      " [70 88 88 12 58]\n",
      " [65 39 87 46 88]]\n"
     ]
    }
   ],
   "source": [
    "#stacking!\n",
    "rd.seed(0)\n",
    "A=rd.randint(100,size=(4,5))\n",
    "print(A)"
   ]
  },
  {
   "cell_type": "code",
   "execution_count": 37,
   "id": "5dc8fdd8-6719-4f18-a2b8-ebea7b15dd09",
   "metadata": {},
   "outputs": [
    {
     "name": "stdout",
     "output_type": "stream",
     "text": [
      "[[37 12 72  9 75]\n",
      " [ 5 79 64 16  1]\n",
      " [76 71  6 25 50]\n",
      " [20 18 84 11 28]]\n"
     ]
    }
   ],
   "source": [
    "rd.seed(1)\n",
    "B=rd.randint(100,size=(4,5))\n",
    "print(B)"
   ]
  },
  {
   "cell_type": "code",
   "execution_count": 38,
   "id": "0d456fdb-a665-4914-b933-3e37f52b590b",
   "metadata": {},
   "outputs": [
    {
     "name": "stdout",
     "output_type": "stream",
     "text": [
      "[[44 47 64 67 67]\n",
      " [ 9 83 21 36 87]\n",
      " [70 88 88 12 58]\n",
      " [65 39 87 46 88]]\n"
     ]
    }
   ],
   "source": [
    "rd.seed(0)\n",
    "C=rd.randint(100,size=(4,5))\n",
    "print(C)"
   ]
  },
  {
   "cell_type": "code",
   "execution_count": 39,
   "id": "7b100e38-d994-4373-9b7e-35e7bf9297ab",
   "metadata": {},
   "outputs": [
    {
     "name": "stdout",
     "output_type": "stream",
     "text": [
      "7\n",
      "4\n",
      "8\n",
      "7\n",
      "4\n",
      "8\n"
     ]
    }
   ],
   "source": [
    "import numpy as np\n",
    "\n",
    "# Set the seed once\n",
    "np.random.seed(42)\n",
    "\n",
    "# Generate some random numbers\n",
    "print(np.random.randint(1, 10))  # Output: 7\n",
    "print(np.random.randint(1, 10))  # Output: 4\n",
    "print(np.random.randint(1, 10))  # Output: 9\n",
    "\n",
    "# If we set the seed again, we'll get the same sequence\n",
    "np.random.seed(42)\n",
    "print(np.random.randint(1, 10))  # Output: 7\n",
    "print(np.random.randint(1, 10))  # Output: 4\n",
    "print(np.random.randint(1, 10))  # Output: 9"
   ]
  },
  {
   "cell_type": "code",
   "execution_count": 40,
   "id": "6a5199c5-0239-498d-8790-74a2af42d7bd",
   "metadata": {},
   "outputs": [
    {
     "name": "stdout",
     "output_type": "stream",
     "text": [
      "[[44 47 64 67 67 37 12 72  9 75]\n",
      " [ 9 83 21 36 87  5 79 64 16  1]\n",
      " [70 88 88 12 58 76 71  6 25 50]\n",
      " [65 39 87 46 88 20 18 84 11 28]]\n"
     ]
    }
   ],
   "source": [
    "print(np.hstack((A,B)))#horizontal(side by side)"
   ]
  },
  {
   "cell_type": "code",
   "execution_count": 41,
   "id": "0a24d8f9-da06-4a16-8408-7a95adbc89e0",
   "metadata": {},
   "outputs": [
    {
     "name": "stdout",
     "output_type": "stream",
     "text": [
      "[[44 47 64 67 67]\n",
      " [ 9 83 21 36 87]\n",
      " [70 88 88 12 58]\n",
      " [65 39 87 46 88]\n",
      " [37 12 72  9 75]\n",
      " [ 5 79 64 16  1]\n",
      " [76 71  6 25 50]\n",
      " [20 18 84 11 28]]\n"
     ]
    }
   ],
   "source": [
    "print(np.vstack((A,B)))#vertical(one by one)"
   ]
  },
  {
   "cell_type": "code",
   "execution_count": 42,
   "id": "f243de41-3d1d-471f-bf15-bc5c1f31d86c",
   "metadata": {},
   "outputs": [
    {
     "name": "stdout",
     "output_type": "stream",
     "text": [
      "[[44 47 64 67 67 37 12 72  9 75]\n",
      " [ 9 83 21 36 87  5 79 64 16  1]\n",
      " [70 88 88 12 58 76 71  6 25 50]\n",
      " [65 39 87 46 88 20 18 84 11 28]]\n"
     ]
    }
   ],
   "source": [
    "C=np.hstack((A,B))\n",
    "print(C)"
   ]
  },
  {
   "cell_type": "code",
   "execution_count": 43,
   "id": "e074269a-9c65-4584-be27-11d5235cb2b8",
   "metadata": {},
   "outputs": [
    {
     "name": "stdout",
     "output_type": "stream",
     "text": [
      "[array([[44, 47, 64, 67, 67],\n",
      "       [ 9, 83, 21, 36, 87],\n",
      "       [70, 88, 88, 12, 58],\n",
      "       [65, 39, 87, 46, 88]]), array([[37, 12, 72,  9, 75],\n",
      "       [ 5, 79, 64, 16,  1],\n",
      "       [76, 71,  6, 25, 50],\n",
      "       [20, 18, 84, 11, 28]])]\n"
     ]
    }
   ],
   "source": [
    "print(np.hsplit(C,2))"
   ]
  },
  {
   "cell_type": "code",
   "execution_count": 44,
   "id": "0e6c203f-d76c-4686-a175-45c9c80d4487",
   "metadata": {},
   "outputs": [
    {
     "data": {
      "text/plain": [
       "[array([[44, 47, 64, 67, 67],\n",
       "        [ 9, 83, 21, 36, 87],\n",
       "        [70, 88, 88, 12, 58],\n",
       "        [65, 39, 87, 46, 88]]),\n",
       " array([[37, 12, 72,  9, 75],\n",
       "        [ 5, 79, 64, 16,  1],\n",
       "        [76, 71,  6, 25, 50],\n",
       "        [20, 18, 84, 11, 28]])]"
      ]
     },
     "execution_count": 44,
     "metadata": {},
     "output_type": "execute_result"
    }
   ],
   "source": [
    "(np.hsplit(C,2))"
   ]
  },
  {
   "cell_type": "code",
   "execution_count": 45,
   "id": "7db207cf-5d51-428f-9b05-c2d4861633ac",
   "metadata": {},
   "outputs": [
    {
     "data": {
      "text/plain": [
       "[array([[44, 47],\n",
       "        [ 9, 83],\n",
       "        [70, 88],\n",
       "        [65, 39]]),\n",
       " array([[64, 67, 67],\n",
       "        [21, 36, 87],\n",
       "        [88, 12, 58],\n",
       "        [87, 46, 88]]),\n",
       " array([[37, 12, 72,  9],\n",
       "        [ 5, 79, 64, 16],\n",
       "        [76, 71,  6, 25],\n",
       "        [20, 18, 84, 11]]),\n",
       " array([[75],\n",
       "        [ 1],\n",
       "        [50],\n",
       "        [28]])]"
      ]
     },
     "execution_count": 45,
     "metadata": {},
     "output_type": "execute_result"
    }
   ],
   "source": [
    "np.hsplit(C,(2,5,9))#col number"
   ]
  },
  {
   "cell_type": "code",
   "execution_count": 46,
   "id": "d1450f79-ce79-4c42-bde3-7dad81f296c4",
   "metadata": {},
   "outputs": [
    {
     "name": "stdout",
     "output_type": "stream",
     "text": [
      "[[0.59865848 0.15601864 0.15599452]\n",
      " [0.05808361 0.86617615 0.60111501]\n",
      " [0.70807258 0.02058449 0.96990985]\n",
      " [0.83244264 0.21233911 0.18182497]\n",
      " [0.18340451 0.30424224 0.52475643]\n",
      " [0.43194502 0.29122914 0.61185289]\n",
      " [0.13949386 0.29214465 0.36636184]\n",
      " [0.45606998 0.78517596 0.19967378]\n",
      " [0.51423444 0.59241457 0.04645041]]\n"
     ]
    }
   ],
   "source": [
    "r6=rd.rand(9,3)\n",
    "print(r6)"
   ]
  },
  {
   "cell_type": "code",
   "execution_count": 47,
   "id": "2fbf98f5-a384-45a2-b03a-f9831fc30145",
   "metadata": {},
   "outputs": [
    {
     "data": {
      "text/plain": [
       "[array([[0.59865848, 0.15601864, 0.15599452],\n",
       "        [0.05808361, 0.86617615, 0.60111501],\n",
       "        [0.70807258, 0.02058449, 0.96990985]]),\n",
       " array([[0.83244264, 0.21233911, 0.18182497],\n",
       "        [0.18340451, 0.30424224, 0.52475643],\n",
       "        [0.43194502, 0.29122914, 0.61185289]]),\n",
       " array([[0.13949386, 0.29214465, 0.36636184],\n",
       "        [0.45606998, 0.78517596, 0.19967378],\n",
       "        [0.51423444, 0.59241457, 0.04645041]])]"
      ]
     },
     "execution_count": 47,
     "metadata": {},
     "output_type": "execute_result"
    }
   ],
   "source": [
    "np.vsplit(r6,3)"
   ]
  },
  {
   "cell_type": "code",
   "execution_count": 48,
   "id": "a1e9253c-674d-454c-b857-4889ea2cfd97",
   "metadata": {},
   "outputs": [
    {
     "data": {
      "text/plain": [
       "[array([[0.59865848, 0.15601864, 0.15599452],\n",
       "        [0.05808361, 0.86617615, 0.60111501]]),\n",
       " array([[0.70807258, 0.02058449, 0.96990985],\n",
       "        [0.83244264, 0.21233911, 0.18182497],\n",
       "        [0.18340451, 0.30424224, 0.52475643]]),\n",
       " array([[0.43194502, 0.29122914, 0.61185289],\n",
       "        [0.13949386, 0.29214465, 0.36636184],\n",
       "        [0.45606998, 0.78517596, 0.19967378],\n",
       "        [0.51423444, 0.59241457, 0.04645041]])]"
      ]
     },
     "execution_count": 48,
     "metadata": {},
     "output_type": "execute_result"
    }
   ],
   "source": [
    "np.vsplit(r6,(2,5))"
   ]
  },
  {
   "cell_type": "code",
   "execution_count": 49,
   "id": "e0860902-43b5-4748-aa15-473f56ce9349",
   "metadata": {},
   "outputs": [
    {
     "data": {
      "text/plain": [
       "array([2.        , 2.66666667, 3.33333333, 4.        , 4.66666667,\n",
       "       5.33333333, 6.        , 6.66666667, 7.33333333, 8.        ])"
      ]
     },
     "execution_count": 49,
     "metadata": {},
     "output_type": "execute_result"
    }
   ],
   "source": [
    "np.linspace(2,8,10)"
   ]
  },
  {
   "cell_type": "code",
   "execution_count": 50,
   "id": "737aacda-d356-4beb-95cb-7e3527f7efda",
   "metadata": {},
   "outputs": [
    {
     "data": {
      "text/plain": [
       "array([[44, 47, 64, 67, 67, 37, 12, 72,  9, 75],\n",
       "       [ 9, 83, 21, 36, 87,  5, 79, 64, 16,  1],\n",
       "       [70, 88, 88, 12, 58, 76, 71,  6, 25, 50],\n",
       "       [65, 39, 87, 46, 88, 20, 18, 84, 11, 28]])"
      ]
     },
     "execution_count": 50,
     "metadata": {},
     "output_type": "execute_result"
    }
   ],
   "source": [
    "C"
   ]
  },
  {
   "cell_type": "code",
   "execution_count": 51,
   "id": "87c6ca54-eaa5-4470-b028-d487d233feff",
   "metadata": {},
   "outputs": [],
   "source": [
    "C=C.reshape(8,5)"
   ]
  },
  {
   "cell_type": "code",
   "execution_count": 52,
   "id": "b5e52aec-8bb8-4573-9ad9-27df9cae8a8a",
   "metadata": {},
   "outputs": [
    {
     "data": {
      "text/plain": [
       "array([[44, 47, 64, 67, 67],\n",
       "       [37, 12, 72,  9, 75],\n",
       "       [ 9, 83, 21, 36, 87],\n",
       "       [ 5, 79, 64, 16,  1],\n",
       "       [70, 88, 88, 12, 58],\n",
       "       [76, 71,  6, 25, 50],\n",
       "       [65, 39, 87, 46, 88],\n",
       "       [20, 18, 84, 11, 28]])"
      ]
     },
     "execution_count": 52,
     "metadata": {},
     "output_type": "execute_result"
    }
   ],
   "source": [
    "C"
   ]
  },
  {
   "cell_type": "code",
   "execution_count": 53,
   "id": "fe6cef81-f10d-4bde-8320-589b6144a25c",
   "metadata": {},
   "outputs": [
    {
     "data": {
      "text/plain": [
       "array([[44, 47, 64, 67, 67],\n",
       "       [37, 12, 72,  9, 75],\n",
       "       [ 9, 83, 21, 36, 87],\n",
       "       [ 5, 79, 64, 16,  1],\n",
       "       [70, 88, 88, 12, 58],\n",
       "       [76, 71,  6, 25, 50],\n",
       "       [65, 39, 87, 46, 88],\n",
       "       [20, 18, 84, 11, 28]])"
      ]
     },
     "execution_count": 53,
     "metadata": {},
     "output_type": "execute_result"
    }
   ],
   "source": [
    "C.reshape(8,5)"
   ]
  },
  {
   "cell_type": "code",
   "execution_count": 54,
   "id": "41272a36-bbb2-4723-97f7-18ee1bdbb8d8",
   "metadata": {},
   "outputs": [],
   "source": [
    "A.resize(3,9)"
   ]
  },
  {
   "cell_type": "code",
   "execution_count": 55,
   "id": "7d3e36e0-c826-440f-a24e-7eeb9dedf386",
   "metadata": {},
   "outputs": [
    {
     "data": {
      "text/plain": [
       "array([[44, 47, 64, 67, 67,  9, 83, 21, 36],\n",
       "       [87, 70, 88, 88, 12, 58, 65, 39, 87],\n",
       "       [46, 88,  0,  0,  0,  0,  0,  0,  0]])"
      ]
     },
     "execution_count": 55,
     "metadata": {},
     "output_type": "execute_result"
    }
   ],
   "source": [
    "A"
   ]
  },
  {
   "cell_type": "code",
   "execution_count": 56,
   "id": "dfb8ded9-34ca-4963-b2ac-f9b31d2c8ee7",
   "metadata": {},
   "outputs": [
    {
     "data": {
      "text/plain": [
       "array([12, 33, 56, 78, 90, 90, 91])"
      ]
     },
     "execution_count": 56,
     "metadata": {},
     "output_type": "execute_result"
    }
   ],
   "source": [
    "#sorting\n",
    "S=np.array([90,56,12,33,90,78,91])\n",
    "np.sort(S)"
   ]
  },
  {
   "cell_type": "code",
   "execution_count": 57,
   "id": "f645ab39-f6af-41b6-962e-c776107cc3da",
   "metadata": {},
   "outputs": [
    {
     "data": {
      "text/plain": [
       "(array([0, 4], dtype=int64),)"
      ]
     },
     "execution_count": 57,
     "metadata": {},
     "output_type": "execute_result"
    }
   ],
   "source": [
    "#searching\n",
    "np.where(S==90)"
   ]
  },
  {
   "cell_type": "code",
   "execution_count": 58,
   "id": "54258ed6-8824-4e4b-a882-0018b8f83557",
   "metadata": {},
   "outputs": [
    {
     "data": {
      "text/plain": [
       "(array([0, 1, 4, 5, 6], dtype=int64),)"
      ]
     },
     "execution_count": 58,
     "metadata": {},
     "output_type": "execute_result"
    }
   ],
   "source": [
    "np.where(S>50)"
   ]
  },
  {
   "cell_type": "code",
   "execution_count": 59,
   "id": "a6cc2a50-d4fb-4194-83f5-9cb306b87c02",
   "metadata": {},
   "outputs": [
    {
     "data": {
      "text/plain": [
       "array([        90,       5040,      60480,    1995840,  179625600,\n",
       "       1125894912, -622778112])"
      ]
     },
     "execution_count": 59,
     "metadata": {},
     "output_type": "execute_result"
    }
   ],
   "source": [
    "np.cumprod(S)#cummulative product"
   ]
  },
  {
   "cell_type": "code",
   "execution_count": 60,
   "id": "093535e9-c0c8-482c-acc4-1e785ff83511",
   "metadata": {},
   "outputs": [
    {
     "name": "stdout",
     "output_type": "stream",
     "text": [
      "[90 56 12 33 90 78 91]\n",
      "[ 90 146 158 191 281 359 450]\n"
     ]
    }
   ],
   "source": [
    "print(S)\n",
    "print(np.cumsum(S))#cummulative sum"
   ]
  },
  {
   "cell_type": "code",
   "execution_count": 61,
   "id": "e21228d2-1e1b-4e8f-a16a-7f4549ec341d",
   "metadata": {},
   "outputs": [
    {
     "data": {
      "text/plain": [
       "(array([3, 6], dtype=int64),)"
      ]
     },
     "execution_count": 61,
     "metadata": {},
     "output_type": "execute_result"
    }
   ],
   "source": [
    "np.where(S%2==1)"
   ]
  },
  {
   "cell_type": "code",
   "execution_count": 62,
   "id": "2e304e85-ccf9-41be-bc60-19be3c1ba140",
   "metadata": {},
   "outputs": [
    {
     "data": {
      "text/plain": [
       "array([[9, 0, 7, 1],\n",
       "       [7, 8, 9, 1],\n",
       "       [5, 6, 7, 8]])"
      ]
     },
     "execution_count": 62,
     "metadata": {},
     "output_type": "execute_result"
    }
   ],
   "source": [
    "ar10=np.array([[9,0,7,1],[7,8,9,1],[5,6,7,8]])\n",
    "ar10"
   ]
  },
  {
   "cell_type": "code",
   "execution_count": 63,
   "id": "8ccae4cf-c2f1-4bb1-963d-07b709fd51f5",
   "metadata": {},
   "outputs": [
    {
     "data": {
      "text/plain": [
       "array([[ 9,  0,  7,  1],\n",
       "       [16,  8, 16,  2],\n",
       "       [21, 14, 23, 10]])"
      ]
     },
     "execution_count": 63,
     "metadata": {},
     "output_type": "execute_result"
    }
   ],
   "source": [
    "np.cumsum(ar10,axis=0)#axis 0=>column"
   ]
  },
  {
   "cell_type": "code",
   "execution_count": 64,
   "id": "833571bc-9ca9-4899-bd5f-a59217b16270",
   "metadata": {},
   "outputs": [
    {
     "data": {
      "text/plain": [
       "array([[ 9,  9, 16, 17],\n",
       "       [ 7, 15, 24, 25],\n",
       "       [ 5, 11, 18, 26]])"
      ]
     },
     "execution_count": 64,
     "metadata": {},
     "output_type": "execute_result"
    }
   ],
   "source": [
    "np.cumsum(ar10,axis=1)#axis 1=>row"
   ]
  },
  {
   "cell_type": "markdown",
   "id": "e2566ee9-364c-436d-991b-461028686935",
   "metadata": {},
   "source": [
    "Matplotlib"
   ]
  },
  {
   "cell_type": "code",
   "execution_count": 65,
   "id": "19a34399-a70b-4b10-aae7-4996b918ba80",
   "metadata": {},
   "outputs": [],
   "source": [
    "from matplotlib import pyplot as plt"
   ]
  },
  {
   "cell_type": "code",
   "execution_count": 66,
   "id": "2f59bc3e-07e5-46c5-afc3-1d01e7ee18c8",
   "metadata": {},
   "outputs": [
    {
     "data": {
      "text/plain": [
       "[<matplotlib.lines.Line2D at 0x1b0a767bed0>]"
      ]
     },
     "execution_count": 66,
     "metadata": {},
     "output_type": "execute_result"
    },
    {
     "data": {
      "image/png": "[encoded data removed]",
      "text/plain": [
       "<Figure size 640x480 with 1 Axes>"
      ]
     },
     "metadata": {},
     "output_type": "display_data"
    }
   ],
   "source": [
    "x=[1,2,3,4]\n",
    "y=[3,5,6,9]\n",
    "plt.plot(x,y)#lineplot"
   ]
  },
  {
   "cell_type": "code",
   "execution_count": 67,
   "id": "75b7fa2b-46fb-4f2c-bcc8-57c7f76d55b6",
   "metadata": {},
   "outputs": [
    {
     "data": {
      "text/plain": [
       "[<matplotlib.lines.Line2D at 0x1b0a8017890>]"
      ]
     },
     "execution_count": 67,
     "metadata": {},
     "output_type": "execute_result"
    },
    {
     "data": {
      "image/png": "[encoded data removed]",
      "text/plain": [
       "<Figure size 640x480 with 1 Axes>"
      ]
     },
     "metadata": {},
     "output_type": "display_data"
    }
   ],
   "source": [
    "x=[1,2,3,4,6]\n",
    "y=[3,5,6,9,4]\n",
    "plt.plot(x,y)#lineplot"
   ]
  },
  {
   "cell_type": "code",
   "execution_count": 68,
   "id": "67eccc81-7236-48af-b281-f63d55ee18f6",
   "metadata": {},
   "outputs": [
    {
     "data": {
      "text/plain": [
       "Text(0, 0.5, 'Marks')"
      ]
     },
     "execution_count": 68,
     "metadata": {},
     "output_type": "execute_result"
    },
    {
     "data": {
      "image/png": "[encoded data removed]",
      "text/plain": [
       "<Figure size 640x480 with 1 Axes>"
      ]
     },
     "metadata": {},
     "output_type": "display_data"
    }
   ],
   "source": [
    "sub = ['science','maths','social','english']\n",
    "std1 = [38,59,68,99]\n",
    "std2 = [40,59,79,80]\n",
    "plt.plot(sub,std1,color='green',linestyle='--',linewidth=2,marker='v',label=\"Nisha\")#lineplot\n",
    "plt.plot(sub,std2,color='blue',linestyle='dashdot',linewidth=2,marker='*',label=\"Rahul\")#lineplot\n",
    "plt.legend()\n",
    "plt.title(\"Nisha vs Rahul\")\n",
    "plt.xlabel(\"Subjects\")\n",
    "plt.ylabel(\"Marks\")"
   ]
  },
  {
   "cell_type": "code",
   "execution_count": 69,
   "id": "8cc09ced-f253-4535-9bab-7927af0e921d",
   "metadata": {},
   "outputs": [
    {
     "data": {
      "text/plain": [
       "Text(0, 0.5, 'Marks')"
      ]
     },
     "execution_count": 69,
     "metadata": {},
     "output_type": "execute_result"
    },
    {
     "data": {
      "image/png": "[encoded data removed]",
      "text/plain": [
       "<Figure size 640x480 with 1 Axes>"
      ]
     },
     "metadata": {},
     "output_type": "display_data"
    }
   ],
   "source": [
    "sub = ['science','maths','social','english']\n",
    "std1 = [38,59,68,99]\n",
    "std2 = [40,59,79,80]\n",
    "plt.bar(sub,std1,color='lightgreen',linestyle='--',linewidth=2,label=\"Nisha\")\n",
    "plt.plot(sub,std2,color='lightblue',linestyle='dashdot',linewidth=2,marker='*',label=\"Rahul\")#lineplot\n",
    "plt.legend()\n",
    "plt.title(\"Nisha vs Rahul\")\n",
    "plt.xlabel(\"Subjects\")\n",
    "plt.ylabel(\"Marks\")"
   ]
  },
  {
   "cell_type": "code",
   "execution_count": 70,
   "id": "593ef65f-eec1-4195-8f00-d7c2e27c719e",
   "metadata": {},
   "outputs": [
    {
     "data": {
      "text/plain": [
       "Text(0, 0.5, 'Marks')"
      ]
     },
     "execution_count": 70,
     "metadata": {},
     "output_type": "execute_result"
    },
    {
     "data": {
      "image/png": "[encoded data removed]",
      "text/plain": [
       "<Figure size 640x480 with 1 Axes>"
      ]
     },
     "metadata": {},
     "output_type": "display_data"
    }
   ],
   "source": [
    "sub = ['science','maths','social','english']\n",
    "std1 = [38,59,68,99]\n",
    "std2 = [40,59,79,80]\n",
    "plt.bar(sub,std1,color='lightpink',linestyle='--',linewidth=2,label=\"Nisha\")#lineplot\n",
    "plt.bar(sub,std2,color='lightblue',linestyle='dashdot',linewidth=2,label=\"Rahul\")#lineplot\n",
    "plt.legend()\n",
    "plt.title(\"Nisha vs Rahul\")\n",
    "plt.xlabel(\"Subjects\")\n",
    "plt.ylabel(\"Marks\")"
   ]
  },
  {
   "cell_type": "code",
   "execution_count": 71,
   "id": "19cf4cb8-c0b5-40c9-8f92-6423d77001ee",
   "metadata": {},
   "outputs": [
    {
     "data": {
      "text/plain": [
       "([<matplotlib.patches.Wedge at 0x1b0a82618d0>,\n",
       "  <matplotlib.patches.Wedge at 0x1b0a5d74f50>,\n",
       "  <matplotlib.patches.Wedge at 0x1b0a8271bd0>,\n",
       "  <matplotlib.patches.Wedge at 0x1b0a8272c90>,\n",
       "  <matplotlib.patches.Wedge at 0x1b0a8273bd0>],\n",
       " [Text(0.9605314495501693, 0.7192908552352453, 'python'),\n",
       "  Text(-0.24034518941326466, 1.0734217204463035, 'aiml'),\n",
       "  Text(-1.275363136618976, 0.2518905908393712, 'java'),\n",
       "  Text(-0.4291947028810894, -1.0128138560558961, 'maths'),\n",
       "  Text(1.13262386146578, -0.8228992577699568, 'aca')])"
      ]
     },
     "execution_count": 71,
     "metadata": {},
     "output_type": "execute_result"
    },
    {
     "data": {
      "image/png": "[encoded data removed]",
      "text/plain": [
       "<Figure size 640x480 with 1 Axes>"
      ]
     },
     "metadata": {},
     "output_type": "display_data"
    }
   ],
   "source": [
    "subj=['python','aiml','java','maths','aca']\n",
    "val=[89,70,90,99,87]\n",
    "ex=[0.1,0,0.2,0,0.3]\n",
    "plt.pie(val,labels=subj,explode=ex)"
   ]
  },
  {
   "cell_type": "code",
   "execution_count": 72,
   "id": "3bb28ce7-815a-4189-86b4-31eee299f905",
   "metadata": {},
   "outputs": [
    {
     "data": {
      "text/plain": [
       "<matplotlib.collections.PathCollection at 0x1b0a8270ed0>"
      ]
     },
     "execution_count": 72,
     "metadata": {},
     "output_type": "execute_result"
    },
    {
     "data": {
      "image/png": "[encoded data removed]",
      "text/plain": [
       "<Figure size 640x480 with 1 Axes>"
      ]
     },
     "metadata": {},
     "output_type": "display_data"
    }
   ],
   "source": [
    "x=[1,2,3,4]\n",
    "y=[23,4,67,89]\n",
    "plt.scatter(x,y)#points"
   ]
  },
  {
   "cell_type": "markdown",
   "id": "2c4bafd7-3130-44bb-b4ed-f639e427cd39",
   "metadata": {},
   "source": [
    "the scores between in ind and aus for every 5 overs are given ind as completed all 50 overs and aus as completed 25 overs,Create a  proper lineplot x and y label are runs_ind=[25,51,84,131,160,189,220,250,267,287] runs_aus=[15,41,94,110,151]"
   ]
  },
  {
   "cell_type": "code",
   "execution_count": 73,
   "id": "da719d6d-b288-47ed-85d0-2ad3d948aab9",
   "metadata": {},
   "outputs": [
    {
     "data": {
      "text/plain": [
       "<matplotlib.legend.Legend at 0x1b0a7830b50>"
      ]
     },
     "execution_count": 73,
     "metadata": {},
     "output_type": "execute_result"
    },
    {
     "data": {
      "image/png": "[encoded data removed]",
      "text/plain": [
       "<Figure size 640x480 with 1 Axes>"
      ]
     },
     "metadata": {},
     "output_type": "display_data"
    }
   ],
   "source": [
    "runs_i=np.array([25,51,84,131,160,189,220,250,267,287])\n",
    "runs_a=np.array([15,41,94,110,151])\n",
    "\n",
    "o_i=np.arange(5,51,5)\n",
    "o_a=np.arange(5,26,5)\n",
    "\n",
    "plt.plot(o_i,runs_i,color='blue',label='india')\n",
    "plt.plot(o_a,runs_a,color='yellow',label='australia')\n",
    "\n",
    "plt.xlabel(\"overs\")\n",
    "plt.ylabel(\"runs\")\n",
    "plt.title('ind vs aus')\n",
    "plt.legend()\n"
   ]
  },
  {
   "cell_type": "markdown",
   "id": "1251c0f9-0401-4164-a4af-05cd1a98be91",
   "metadata": {},
   "source": [
    "Pandas"
   ]
  },
  {
   "cell_type": "code",
   "execution_count": 89,
   "id": "c2cee915-8dcd-465d-a068-77deffde5ed7",
   "metadata": {},
   "outputs": [],
   "source": [
    "import pandas as pd"
   ]
  },
  {
   "cell_type": "code",
   "execution_count": 90,
   "id": "ee072502-e771-4563-887a-01740a77c714",
   "metadata": {},
   "outputs": [],
   "source": [
    "val=['Jwalitha','Rajesh','Karthik','Lokesh']\n",
    "ind=[67,89,12,33]\n",
    "s=pd.Series(val,index=ind)"
   ]
  },
  {
   "cell_type": "code",
   "execution_count": 91,
   "id": "f1477c93-3f78-4732-a0af-9e17bf7433c1",
   "metadata": {},
   "outputs": [
    {
     "data": {
      "text/plain": [
       "67    Jwalitha\n",
       "89      Rajesh\n",
       "12     Karthik\n",
       "33      Lokesh\n",
       "dtype: object"
      ]
     },
     "execution_count": 91,
     "metadata": {},
     "output_type": "execute_result"
    }
   ],
   "source": [
    "s"
   ]
  },
  {
   "cell_type": "code",
   "execution_count": 92,
   "id": "16677566-9a3c-40f2-85e5-19bd0f2bf0d3",
   "metadata": {},
   "outputs": [
    {
     "data": {
      "text/html": [
       "<div>\n",
       "<style scoped>\n",
       "    .dataframe tbody tr th:only-of-type {\n",
       "        vertical-align: middle;\n",
       "    }\n",
       "\n",
       "    .dataframe tbody tr th {\n",
       "        vertical-align: top;\n",
       "    }\n",
       "\n",
       "    .dataframe thead th {\n",
       "        text-align: right;\n",
       "    }\n",
       "</style>\n",
       "<table border=\"1\" class=\"dataframe\">\n",
       "  <thead>\n",
       "    <tr style=\"text-align: right;\">\n",
       "      <th></th>\n",
       "      <th>name</th>\n",
       "      <th>marks</th>\n",
       "      <th>grades</th>\n",
       "    </tr>\n",
       "  </thead>\n",
       "  <tbody>\n",
       "  </tbody>\n",
       "</table>\n",
       "</div>"
      ],
      "text/plain": [
       "Empty DataFrame\n",
       "Columns: [name, marks, grades]\n",
       "Index: []"
      ]
     },
     "execution_count": 92,
     "metadata": {},
     "output_type": "execute_result"
    }
   ],
   "source": [
    "mydf=pd.DataFrame(columns=['name','marks','grades'])\n",
    "mydf"
   ]
  },
  {
   "cell_type": "code",
   "execution_count": 93,
   "id": "2449fd8c-1b39-4e74-bdfe-f39ca70d8ab2",
   "metadata": {},
   "outputs": [],
   "source": [
    "N=['nivi','swapna','v','jk','jimin']\n",
    "M=[90,89,99,90,87]\n",
    "G=['A','A+','A','A+','B']"
   ]
  },
  {
   "cell_type": "code",
   "execution_count": 94,
   "id": "60edfdbf-c18a-47a7-831c-ad6eb72fdab0",
   "metadata": {},
   "outputs": [],
   "source": [
    "mydf['name']=N\n",
    "mydf['marks']=M\n",
    "mydf['grades']=G\n"
   ]
  },
  {
   "cell_type": "code",
   "execution_count": 95,
   "id": "2222f53b-2626-4a35-8cd0-8c0e56368628",
   "metadata": {},
   "outputs": [
    {
     "data": {
      "text/html": [
       "<div>\n",
       "<style scoped>\n",
       "    .dataframe tbody tr th:only-of-type {\n",
       "        vertical-align: middle;\n",
       "    }\n",
       "\n",
       "    .dataframe tbody tr th {\n",
       "        vertical-align: top;\n",
       "    }\n",
       "\n",
       "    .dataframe thead th {\n",
       "        text-align: right;\n",
       "    }\n",
       "</style>\n",
       "<table border=\"1\" class=\"dataframe\">\n",
       "  <thead>\n",
       "    <tr style=\"text-align: right;\">\n",
       "      <th></th>\n",
       "      <th>name</th>\n",
       "      <th>marks</th>\n",
       "      <th>grades</th>\n",
       "    </tr>\n",
       "  </thead>\n",
       "  <tbody>\n",
       "    <tr>\n",
       "      <th>0</th>\n",
       "      <td>nivi</td>\n",
       "      <td>90</td>\n",
       "      <td>A</td>\n",
       "    </tr>\n",
       "    <tr>\n",
       "      <th>1</th>\n",
       "      <td>swapna</td>\n",
       "      <td>89</td>\n",
       "      <td>A+</td>\n",
       "    </tr>\n",
       "    <tr>\n",
       "      <th>2</th>\n",
       "      <td>v</td>\n",
       "      <td>99</td>\n",
       "      <td>A</td>\n",
       "    </tr>\n",
       "    <tr>\n",
       "      <th>3</th>\n",
       "      <td>jk</td>\n",
       "      <td>90</td>\n",
       "      <td>A+</td>\n",
       "    </tr>\n",
       "    <tr>\n",
       "      <th>4</th>\n",
       "      <td>jimin</td>\n",
       "      <td>87</td>\n",
       "      <td>B</td>\n",
       "    </tr>\n",
       "  </tbody>\n",
       "</table>\n",
       "</div>"
      ],
      "text/plain": [
       "     name  marks grades\n",
       "0    nivi     90      A\n",
       "1  swapna     89     A+\n",
       "2       v     99      A\n",
       "3      jk     90     A+\n",
       "4   jimin     87      B"
      ]
     },
     "execution_count": 95,
     "metadata": {},
     "output_type": "execute_result"
    }
   ],
   "source": [
    "mydf"
   ]
  },
  {
   "cell_type": "code",
   "execution_count": 96,
   "id": "4f49fbf8-d65d-472f-b31b-c2ccde6793af",
   "metadata": {},
   "outputs": [],
   "source": [
    "mydf.to_csv('demo.csv')"
   ]
  },
  {
   "cell_type": "code",
   "execution_count": 99,
   "id": "c15f2ebe-8cbb-4e12-a7a9-aa70dccbc47a",
   "metadata": {},
   "outputs": [],
   "source": [
    "dfcsv=pd.read_csv(r\"C:\\Users\\Dell\\Downloads\\diabetcsv.csv\")"
   ]
  },
  {
   "cell_type": "code",
   "execution_count": 100,
   "id": "2807c98d-6358-4dd7-a11a-0447681909fa",
   "metadata": {},
   "outputs": [
    {
     "data": {
      "text/html": [
       "<div>\n",
       "<style scoped>\n",
       "    .dataframe tbody tr th:only-of-type {\n",
       "        vertical-align: middle;\n",
       "    }\n",
       "\n",
       "    .dataframe tbody tr th {\n",
       "        vertical-align: top;\n",
       "    }\n",
       "\n",
       "    .dataframe thead th {\n",
       "        text-align: right;\n",
       "    }\n",
       "</style>\n",
       "<table border=\"1\" class=\"dataframe\">\n",
       "  <thead>\n",
       "    <tr style=\"text-align: right;\">\n",
       "      <th></th>\n",
       "      <th>preg</th>\n",
       "      <th>plas</th>\n",
       "      <th>pres</th>\n",
       "      <th>skin</th>\n",
       "      <th>insu</th>\n",
       "      <th>mass</th>\n",
       "      <th>pedi</th>\n",
       "      <th>age</th>\n",
       "      <th>class</th>\n",
       "    </tr>\n",
       "  </thead>\n",
       "  <tbody>\n",
       "    <tr>\n",
       "      <th>0</th>\n",
       "      <td>6</td>\n",
       "      <td>148</td>\n",
       "      <td>72</td>\n",
       "      <td>35</td>\n",
       "      <td>0</td>\n",
       "      <td>33.6</td>\n",
       "      <td>0.627</td>\n",
       "      <td>50</td>\n",
       "      <td>tested_positive</td>\n",
       "    </tr>\n",
       "    <tr>\n",
       "      <th>1</th>\n",
       "      <td>1</td>\n",
       "      <td>85</td>\n",
       "      <td>66</td>\n",
       "      <td>29</td>\n",
       "      <td>0</td>\n",
       "      <td>26.6</td>\n",
       "      <td>0.351</td>\n",
       "      <td>31</td>\n",
       "      <td>tested_negative</td>\n",
       "    </tr>\n",
       "    <tr>\n",
       "      <th>2</th>\n",
       "      <td>8</td>\n",
       "      <td>183</td>\n",
       "      <td>64</td>\n",
       "      <td>0</td>\n",
       "      <td>0</td>\n",
       "      <td>23.3</td>\n",
       "      <td>0.672</td>\n",
       "      <td>32</td>\n",
       "      <td>tested_positive</td>\n",
       "    </tr>\n",
       "    <tr>\n",
       "      <th>3</th>\n",
       "      <td>1</td>\n",
       "      <td>89</td>\n",
       "      <td>66</td>\n",
       "      <td>23</td>\n",
       "      <td>94</td>\n",
       "      <td>28.1</td>\n",
       "      <td>0.167</td>\n",
       "      <td>21</td>\n",
       "      <td>tested_negative</td>\n",
       "    </tr>\n",
       "    <tr>\n",
       "      <th>4</th>\n",
       "      <td>0</td>\n",
       "      <td>137</td>\n",
       "      <td>40</td>\n",
       "      <td>35</td>\n",
       "      <td>168</td>\n",
       "      <td>43.1</td>\n",
       "      <td>2.288</td>\n",
       "      <td>33</td>\n",
       "      <td>tested_positive</td>\n",
       "    </tr>\n",
       "    <tr>\n",
       "      <th>...</th>\n",
       "      <td>...</td>\n",
       "      <td>...</td>\n",
       "      <td>...</td>\n",
       "      <td>...</td>\n",
       "      <td>...</td>\n",
       "      <td>...</td>\n",
       "      <td>...</td>\n",
       "      <td>...</td>\n",
       "      <td>...</td>\n",
       "    </tr>\n",
       "    <tr>\n",
       "      <th>763</th>\n",
       "      <td>10</td>\n",
       "      <td>101</td>\n",
       "      <td>76</td>\n",
       "      <td>48</td>\n",
       "      <td>180</td>\n",
       "      <td>32.9</td>\n",
       "      <td>0.171</td>\n",
       "      <td>63</td>\n",
       "      <td>tested_negative</td>\n",
       "    </tr>\n",
       "    <tr>\n",
       "      <th>764</th>\n",
       "      <td>2</td>\n",
       "      <td>122</td>\n",
       "      <td>70</td>\n",
       "      <td>27</td>\n",
       "      <td>0</td>\n",
       "      <td>36.8</td>\n",
       "      <td>0.340</td>\n",
       "      <td>27</td>\n",
       "      <td>tested_negative</td>\n",
       "    </tr>\n",
       "    <tr>\n",
       "      <th>765</th>\n",
       "      <td>5</td>\n",
       "      <td>121</td>\n",
       "      <td>72</td>\n",
       "      <td>23</td>\n",
       "      <td>112</td>\n",
       "      <td>26.2</td>\n",
       "      <td>0.245</td>\n",
       "      <td>30</td>\n",
       "      <td>tested_negative</td>\n",
       "    </tr>\n",
       "    <tr>\n",
       "      <th>766</th>\n",
       "      <td>1</td>\n",
       "      <td>126</td>\n",
       "      <td>60</td>\n",
       "      <td>0</td>\n",
       "      <td>0</td>\n",
       "      <td>30.1</td>\n",
       "      <td>0.349</td>\n",
       "      <td>47</td>\n",
       "      <td>tested_positive</td>\n",
       "    </tr>\n",
       "    <tr>\n",
       "      <th>767</th>\n",
       "      <td>1</td>\n",
       "      <td>93</td>\n",
       "      <td>70</td>\n",
       "      <td>31</td>\n",
       "      <td>0</td>\n",
       "      <td>30.4</td>\n",
       "      <td>0.315</td>\n",
       "      <td>23</td>\n",
       "      <td>tested_negative</td>\n",
       "    </tr>\n",
       "  </tbody>\n",
       "</table>\n",
       "<p>768 rows × 9 columns</p>\n",
       "</div>"
      ],
      "text/plain": [
       "     preg  plas  pres  skin  insu  mass   pedi  age            class\n",
       "0       6   148    72    35     0  33.6  0.627   50  tested_positive\n",
       "1       1    85    66    29     0  26.6  0.351   31  tested_negative\n",
       "2       8   183    64     0     0  23.3  0.672   32  tested_positive\n",
       "3       1    89    66    23    94  28.1  0.167   21  tested_negative\n",
       "4       0   137    40    35   168  43.1  2.288   33  tested_positive\n",
       "..    ...   ...   ...   ...   ...   ...    ...  ...              ...\n",
       "763    10   101    76    48   180  32.9  0.171   63  tested_negative\n",
       "764     2   122    70    27     0  36.8  0.340   27  tested_negative\n",
       "765     5   121    72    23   112  26.2  0.245   30  tested_negative\n",
       "766     1   126    60     0     0  30.1  0.349   47  tested_positive\n",
       "767     1    93    70    31     0  30.4  0.315   23  tested_negative\n",
       "\n",
       "[768 rows x 9 columns]"
      ]
     },
     "execution_count": 100,
     "metadata": {},
     "output_type": "execute_result"
    }
   ],
   "source": [
    "dfcsv"
   ]
  },
  {
   "cell_type": "code",
   "execution_count": 107,
   "id": "2a9210e7-9f5e-4247-af85-af01e295998a",
   "metadata": {},
   "outputs": [],
   "source": [
    "dfex=pd.read_excel(r\"C:\\Users\\Dell\\Downloads\\diabetes.xlsx\")"
   ]
  },
  {
   "cell_type": "code",
   "execution_count": 108,
   "id": "7189b020-2f0a-4535-930c-0f4fad107ca3",
   "metadata": {},
   "outputs": [
    {
     "data": {
      "text/html": [
       "<div>\n",
       "<style scoped>\n",
       "    .dataframe tbody tr th:only-of-type {\n",
       "        vertical-align: middle;\n",
       "    }\n",
       "\n",
       "    .dataframe tbody tr th {\n",
       "        vertical-align: top;\n",
       "    }\n",
       "\n",
       "    .dataframe thead th {\n",
       "        text-align: right;\n",
       "    }\n",
       "</style>\n",
       "<table border=\"1\" class=\"dataframe\">\n",
       "  <thead>\n",
       "    <tr style=\"text-align: right;\">\n",
       "      <th></th>\n",
       "      <th>preg</th>\n",
       "      <th>plas</th>\n",
       "      <th>pres</th>\n",
       "      <th>skin</th>\n",
       "      <th>insu</th>\n",
       "      <th>mass</th>\n",
       "      <th>pedi</th>\n",
       "      <th>age</th>\n",
       "      <th>class</th>\n",
       "    </tr>\n",
       "  </thead>\n",
       "  <tbody>\n",
       "    <tr>\n",
       "      <th>0</th>\n",
       "      <td>6</td>\n",
       "      <td>148</td>\n",
       "      <td>72</td>\n",
       "      <td>35</td>\n",
       "      <td>0</td>\n",
       "      <td>33.6</td>\n",
       "      <td>0.627</td>\n",
       "      <td>50</td>\n",
       "      <td>tested_positive</td>\n",
       "    </tr>\n",
       "    <tr>\n",
       "      <th>1</th>\n",
       "      <td>1</td>\n",
       "      <td>85</td>\n",
       "      <td>66</td>\n",
       "      <td>29</td>\n",
       "      <td>0</td>\n",
       "      <td>26.6</td>\n",
       "      <td>0.351</td>\n",
       "      <td>31</td>\n",
       "      <td>tested_negative</td>\n",
       "    </tr>\n",
       "    <tr>\n",
       "      <th>2</th>\n",
       "      <td>8</td>\n",
       "      <td>183</td>\n",
       "      <td>64</td>\n",
       "      <td>0</td>\n",
       "      <td>0</td>\n",
       "      <td>23.3</td>\n",
       "      <td>0.672</td>\n",
       "      <td>32</td>\n",
       "      <td>tested_positive</td>\n",
       "    </tr>\n",
       "    <tr>\n",
       "      <th>3</th>\n",
       "      <td>1</td>\n",
       "      <td>89</td>\n",
       "      <td>66</td>\n",
       "      <td>23</td>\n",
       "      <td>94</td>\n",
       "      <td>28.1</td>\n",
       "      <td>0.167</td>\n",
       "      <td>21</td>\n",
       "      <td>tested_negative</td>\n",
       "    </tr>\n",
       "    <tr>\n",
       "      <th>4</th>\n",
       "      <td>0</td>\n",
       "      <td>137</td>\n",
       "      <td>40</td>\n",
       "      <td>35</td>\n",
       "      <td>168</td>\n",
       "      <td>43.1</td>\n",
       "      <td>2.288</td>\n",
       "      <td>33</td>\n",
       "      <td>tested_positive</td>\n",
       "    </tr>\n",
       "    <tr>\n",
       "      <th>...</th>\n",
       "      <td>...</td>\n",
       "      <td>...</td>\n",
       "      <td>...</td>\n",
       "      <td>...</td>\n",
       "      <td>...</td>\n",
       "      <td>...</td>\n",
       "      <td>...</td>\n",
       "      <td>...</td>\n",
       "      <td>...</td>\n",
       "    </tr>\n",
       "    <tr>\n",
       "      <th>763</th>\n",
       "      <td>10</td>\n",
       "      <td>101</td>\n",
       "      <td>76</td>\n",
       "      <td>48</td>\n",
       "      <td>180</td>\n",
       "      <td>32.9</td>\n",
       "      <td>0.171</td>\n",
       "      <td>63</td>\n",
       "      <td>tested_negative</td>\n",
       "    </tr>\n",
       "    <tr>\n",
       "      <th>764</th>\n",
       "      <td>2</td>\n",
       "      <td>122</td>\n",
       "      <td>70</td>\n",
       "      <td>27</td>\n",
       "      <td>0</td>\n",
       "      <td>36.8</td>\n",
       "      <td>0.340</td>\n",
       "      <td>27</td>\n",
       "      <td>tested_negative</td>\n",
       "    </tr>\n",
       "    <tr>\n",
       "      <th>765</th>\n",
       "      <td>5</td>\n",
       "      <td>121</td>\n",
       "      <td>72</td>\n",
       "      <td>23</td>\n",
       "      <td>112</td>\n",
       "      <td>26.2</td>\n",
       "      <td>0.245</td>\n",
       "      <td>30</td>\n",
       "      <td>tested_negative</td>\n",
       "    </tr>\n",
       "    <tr>\n",
       "      <th>766</th>\n",
       "      <td>1</td>\n",
       "      <td>126</td>\n",
       "      <td>60</td>\n",
       "      <td>0</td>\n",
       "      <td>0</td>\n",
       "      <td>30.1</td>\n",
       "      <td>0.349</td>\n",
       "      <td>47</td>\n",
       "      <td>tested_positive</td>\n",
       "    </tr>\n",
       "    <tr>\n",
       "      <th>767</th>\n",
       "      <td>1</td>\n",
       "      <td>93</td>\n",
       "      <td>70</td>\n",
       "      <td>31</td>\n",
       "      <td>0</td>\n",
       "      <td>30.4</td>\n",
       "      <td>0.315</td>\n",
       "      <td>23</td>\n",
       "      <td>tested_negative</td>\n",
       "    </tr>\n",
       "  </tbody>\n",
       "</table>\n",
       "<p>768 rows × 9 columns</p>\n",
       "</div>"
      ],
      "text/plain": [
       "     preg  plas  pres  skin  insu  mass   pedi  age            class\n",
       "0       6   148    72    35     0  33.6  0.627   50  tested_positive\n",
       "1       1    85    66    29     0  26.6  0.351   31  tested_negative\n",
       "2       8   183    64     0     0  23.3  0.672   32  tested_positive\n",
       "3       1    89    66    23    94  28.1  0.167   21  tested_negative\n",
       "4       0   137    40    35   168  43.1  2.288   33  tested_positive\n",
       "..    ...   ...   ...   ...   ...   ...    ...  ...              ...\n",
       "763    10   101    76    48   180  32.9  0.171   63  tested_negative\n",
       "764     2   122    70    27     0  36.8  0.340   27  tested_negative\n",
       "765     5   121    72    23   112  26.2  0.245   30  tested_negative\n",
       "766     1   126    60     0     0  30.1  0.349   47  tested_positive\n",
       "767     1    93    70    31     0  30.4  0.315   23  tested_negative\n",
       "\n",
       "[768 rows x 9 columns]"
      ]
     },
     "execution_count": 108,
     "metadata": {},
     "output_type": "execute_result"
    }
   ],
   "source": [
    "dfex"
   ]
  },
  {
   "cell_type": "code",
   "execution_count": 116,
   "id": "2e5f4f80-234b-496a-ae90-b8d752ad6534",
   "metadata": {},
   "outputs": [],
   "source": [
    "dftxt=pd.read_csv(r\"C:\\Users\\Dell\\Downloads\\onlynum.txt\")"
   ]
  },
  {
   "cell_type": "code",
   "execution_count": 117,
   "id": "6e6b683d-27cb-4c70-8217-96871596611d",
   "metadata": {},
   "outputs": [
    {
     "data": {
      "text/html": [
       "<div>\n",
       "<style scoped>\n",
       "    .dataframe tbody tr th:only-of-type {\n",
       "        vertical-align: middle;\n",
       "    }\n",
       "\n",
       "    .dataframe tbody tr th {\n",
       "        vertical-align: top;\n",
       "    }\n",
       "\n",
       "    .dataframe thead th {\n",
       "        text-align: right;\n",
       "    }\n",
       "</style>\n",
       "<table border=\"1\" class=\"dataframe\">\n",
       "  <thead>\n",
       "    <tr style=\"text-align: right;\">\n",
       "      <th></th>\n",
       "      <th>C1</th>\n",
       "      <th>C2</th>\n",
       "      <th>C3</th>\n",
       "      <th>C4</th>\n",
       "    </tr>\n",
       "  </thead>\n",
       "  <tbody>\n",
       "    <tr>\n",
       "      <th>0</th>\n",
       "      <td>92</td>\n",
       "      <td>90</td>\n",
       "      <td>54</td>\n",
       "      <td>0</td>\n",
       "    </tr>\n",
       "    <tr>\n",
       "      <th>1</th>\n",
       "      <td>56</td>\n",
       "      <td>67</td>\n",
       "      <td>50</td>\n",
       "      <td>1</td>\n",
       "    </tr>\n",
       "    <tr>\n",
       "      <th>2</th>\n",
       "      <td>78</td>\n",
       "      <td>85</td>\n",
       "      <td>62</td>\n",
       "      <td>0</td>\n",
       "    </tr>\n",
       "    <tr>\n",
       "      <th>3</th>\n",
       "      <td>63</td>\n",
       "      <td>72</td>\n",
       "      <td>48</td>\n",
       "      <td>1</td>\n",
       "    </tr>\n",
       "    <tr>\n",
       "      <th>4</th>\n",
       "      <td>85</td>\n",
       "      <td>79</td>\n",
       "      <td>55</td>\n",
       "      <td>0</td>\n",
       "    </tr>\n",
       "  </tbody>\n",
       "</table>\n",
       "</div>"
      ],
      "text/plain": [
       "   C1  C2  C3  C4\n",
       "0  92  90  54   0\n",
       "1  56  67  50   1\n",
       "2  78  85  62   0\n",
       "3  63  72  48   1\n",
       "4  85  79  55   0"
      ]
     },
     "execution_count": 117,
     "metadata": {},
     "output_type": "execute_result"
    }
   ],
   "source": [
    "dftxt"
   ]
  },
  {
   "cell_type": "code",
   "execution_count": 120,
   "id": "0bdbf561-68a2-42d0-b284-c3fc34a41d68",
   "metadata": {},
   "outputs": [],
   "source": [
    "dftxt=pd.read_csv(r\"C:\\Users\\Dell\\Downloads\\onlynum (1).txt\")"
   ]
  },
  {
   "cell_type": "code",
   "execution_count": 121,
   "id": "dcac0c18-94e4-4548-a6f4-5a6b71969d39",
   "metadata": {},
   "outputs": [
    {
     "data": {
      "text/html": [
       "<div>\n",
       "<style scoped>\n",
       "    .dataframe tbody tr th:only-of-type {\n",
       "        vertical-align: middle;\n",
       "    }\n",
       "\n",
       "    .dataframe tbody tr th {\n",
       "        vertical-align: top;\n",
       "    }\n",
       "\n",
       "    .dataframe thead th {\n",
       "        text-align: right;\n",
       "    }\n",
       "</style>\n",
       "<table border=\"1\" class=\"dataframe\">\n",
       "  <thead>\n",
       "    <tr style=\"text-align: right;\">\n",
       "      <th></th>\n",
       "      <th>C1 C2 C3 C4</th>\n",
       "    </tr>\n",
       "  </thead>\n",
       "  <tbody>\n",
       "    <tr>\n",
       "      <th>0</th>\n",
       "      <td>92 90 54 0</td>\n",
       "    </tr>\n",
       "    <tr>\n",
       "      <th>1</th>\n",
       "      <td>56 67 50 1</td>\n",
       "    </tr>\n",
       "    <tr>\n",
       "      <th>2</th>\n",
       "      <td>78 85 62 0</td>\n",
       "    </tr>\n",
       "    <tr>\n",
       "      <th>3</th>\n",
       "      <td>63 72 48 1</td>\n",
       "    </tr>\n",
       "    <tr>\n",
       "      <th>4</th>\n",
       "      <td>85 79 55 0</td>\n",
       "    </tr>\n",
       "  </tbody>\n",
       "</table>\n",
       "</div>"
      ],
      "text/plain": [
       "  C1 C2 C3 C4\n",
       "0  92 90 54 0\n",
       "1  56 67 50 1\n",
       "2  78 85 62 0\n",
       "3  63 72 48 1\n",
       "4  85 79 55 0"
      ]
     },
     "execution_count": 121,
     "metadata": {},
     "output_type": "execute_result"
    }
   ],
   "source": [
    "dftxt"
   ]
  },
  {
   "cell_type": "code",
   "execution_count": 122,
   "id": "b5cf9552-480e-4a01-b0f6-68a8c104ffd0",
   "metadata": {},
   "outputs": [
    {
     "data": {
      "text/html": [
       "<div>\n",
       "<style scoped>\n",
       "    .dataframe tbody tr th:only-of-type {\n",
       "        vertical-align: middle;\n",
       "    }\n",
       "\n",
       "    .dataframe tbody tr th {\n",
       "        vertical-align: top;\n",
       "    }\n",
       "\n",
       "    .dataframe thead th {\n",
       "        text-align: right;\n",
       "    }\n",
       "</style>\n",
       "<table border=\"1\" class=\"dataframe\">\n",
       "  <thead>\n",
       "    <tr style=\"text-align: right;\">\n",
       "      <th></th>\n",
       "      <th>preg</th>\n",
       "      <th>plas</th>\n",
       "      <th>pres</th>\n",
       "      <th>skin</th>\n",
       "      <th>insu</th>\n",
       "      <th>mass</th>\n",
       "      <th>pedi</th>\n",
       "      <th>age</th>\n",
       "    </tr>\n",
       "  </thead>\n",
       "  <tbody>\n",
       "    <tr>\n",
       "      <th>count</th>\n",
       "      <td>768.000000</td>\n",
       "      <td>768.000000</td>\n",
       "      <td>768.000000</td>\n",
       "      <td>768.000000</td>\n",
       "      <td>768.000000</td>\n",
       "      <td>768.000000</td>\n",
       "      <td>768.000000</td>\n",
       "      <td>768.000000</td>\n",
       "    </tr>\n",
       "    <tr>\n",
       "      <th>mean</th>\n",
       "      <td>3.845052</td>\n",
       "      <td>120.894531</td>\n",
       "      <td>69.105469</td>\n",
       "      <td>20.536458</td>\n",
       "      <td>79.799479</td>\n",
       "      <td>31.992578</td>\n",
       "      <td>0.471876</td>\n",
       "      <td>33.240885</td>\n",
       "    </tr>\n",
       "    <tr>\n",
       "      <th>std</th>\n",
       "      <td>3.369578</td>\n",
       "      <td>31.972618</td>\n",
       "      <td>19.355807</td>\n",
       "      <td>15.952218</td>\n",
       "      <td>115.244002</td>\n",
       "      <td>7.884160</td>\n",
       "      <td>0.331329</td>\n",
       "      <td>11.760232</td>\n",
       "    </tr>\n",
       "    <tr>\n",
       "      <th>min</th>\n",
       "      <td>0.000000</td>\n",
       "      <td>0.000000</td>\n",
       "      <td>0.000000</td>\n",
       "      <td>0.000000</td>\n",
       "      <td>0.000000</td>\n",
       "      <td>0.000000</td>\n",
       "      <td>0.078000</td>\n",
       "      <td>21.000000</td>\n",
       "    </tr>\n",
       "    <tr>\n",
       "      <th>25%</th>\n",
       "      <td>1.000000</td>\n",
       "      <td>99.000000</td>\n",
       "      <td>62.000000</td>\n",
       "      <td>0.000000</td>\n",
       "      <td>0.000000</td>\n",
       "      <td>27.300000</td>\n",
       "      <td>0.243750</td>\n",
       "      <td>24.000000</td>\n",
       "    </tr>\n",
       "    <tr>\n",
       "      <th>50%</th>\n",
       "      <td>3.000000</td>\n",
       "      <td>117.000000</td>\n",
       "      <td>72.000000</td>\n",
       "      <td>23.000000</td>\n",
       "      <td>30.500000</td>\n",
       "      <td>32.000000</td>\n",
       "      <td>0.372500</td>\n",
       "      <td>29.000000</td>\n",
       "    </tr>\n",
       "    <tr>\n",
       "      <th>75%</th>\n",
       "      <td>6.000000</td>\n",
       "      <td>140.250000</td>\n",
       "      <td>80.000000</td>\n",
       "      <td>32.000000</td>\n",
       "      <td>127.250000</td>\n",
       "      <td>36.600000</td>\n",
       "      <td>0.626250</td>\n",
       "      <td>41.000000</td>\n",
       "    </tr>\n",
       "    <tr>\n",
       "      <th>max</th>\n",
       "      <td>17.000000</td>\n",
       "      <td>199.000000</td>\n",
       "      <td>122.000000</td>\n",
       "      <td>99.000000</td>\n",
       "      <td>846.000000</td>\n",
       "      <td>67.100000</td>\n",
       "      <td>2.420000</td>\n",
       "      <td>81.000000</td>\n",
       "    </tr>\n",
       "  </tbody>\n",
       "</table>\n",
       "</div>"
      ],
      "text/plain": [
       "             preg        plas        pres        skin        insu        mass  \\\n",
       "count  768.000000  768.000000  768.000000  768.000000  768.000000  768.000000   \n",
       "mean     3.845052  120.894531   69.105469   20.536458   79.799479   31.992578   \n",
       "std      3.369578   31.972618   19.355807   15.952218  115.244002    7.884160   \n",
       "min      0.000000    0.000000    0.000000    0.000000    0.000000    0.000000   \n",
       "25%      1.000000   99.000000   62.000000    0.000000    0.000000   27.300000   \n",
       "50%      3.000000  117.000000   72.000000   23.000000   30.500000   32.000000   \n",
       "75%      6.000000  140.250000   80.000000   32.000000  127.250000   36.600000   \n",
       "max     17.000000  199.000000  122.000000   99.000000  846.000000   67.100000   \n",
       "\n",
       "             pedi         age  \n",
       "count  768.000000  768.000000  \n",
       "mean     0.471876   33.240885  \n",
       "std      0.331329   11.760232  \n",
       "min      0.078000   21.000000  \n",
       "25%      0.243750   24.000000  \n",
       "50%      0.372500   29.000000  \n",
       "75%      0.626250   41.000000  \n",
       "max      2.420000   81.000000  "
      ]
     },
     "execution_count": 122,
     "metadata": {},
     "output_type": "execute_result"
    }
   ],
   "source": [
    "dfcsv.describe()"
   ]
  },
  {
   "cell_type": "code",
   "execution_count": 123,
   "id": "eda10587-acab-4e7f-8c81-ca46717718aa",
   "metadata": {},
   "outputs": [],
   "source": [
    "demodf=pd.read_csv(r\"C:\\Users\\Dell\\Downloads\\grades_withnulls.csv\")"
   ]
  },
  {
   "cell_type": "code",
   "execution_count": 124,
   "id": "44df001b-59b6-4216-84f2-1bf0de02f72d",
   "metadata": {},
   "outputs": [
    {
     "data": {
      "text/html": [
       "<div>\n",
       "<style scoped>\n",
       "    .dataframe tbody tr th:only-of-type {\n",
       "        vertical-align: middle;\n",
       "    }\n",
       "\n",
       "    .dataframe tbody tr th {\n",
       "        vertical-align: top;\n",
       "    }\n",
       "\n",
       "    .dataframe thead th {\n",
       "        text-align: right;\n",
       "    }\n",
       "</style>\n",
       "<table border=\"1\" class=\"dataframe\">\n",
       "  <thead>\n",
       "    <tr style=\"text-align: right;\">\n",
       "      <th></th>\n",
       "      <th>Names</th>\n",
       "      <th>Initials</th>\n",
       "      <th>SEM1</th>\n",
       "      <th>SEM2</th>\n",
       "      <th>SEM3</th>\n",
       "      <th>Grade</th>\n",
       "      <th>Placed</th>\n",
       "    </tr>\n",
       "  </thead>\n",
       "  <tbody>\n",
       "    <tr>\n",
       "      <th>0</th>\n",
       "      <td>Joe</td>\n",
       "      <td>K</td>\n",
       "      <td>9.8</td>\n",
       "      <td>10.0</td>\n",
       "      <td>9.9</td>\n",
       "      <td>A+</td>\n",
       "      <td>1</td>\n",
       "    </tr>\n",
       "    <tr>\n",
       "      <th>1</th>\n",
       "      <td>Rajesh</td>\n",
       "      <td>M</td>\n",
       "      <td>8.9</td>\n",
       "      <td>9.1</td>\n",
       "      <td>9.3</td>\n",
       "      <td>A</td>\n",
       "      <td>1</td>\n",
       "    </tr>\n",
       "    <tr>\n",
       "      <th>2</th>\n",
       "      <td>Kissan</td>\n",
       "      <td>V</td>\n",
       "      <td>9.9</td>\n",
       "      <td>9.8</td>\n",
       "      <td>10.0</td>\n",
       "      <td>A</td>\n",
       "      <td>0</td>\n",
       "    </tr>\n",
       "    <tr>\n",
       "      <th>3</th>\n",
       "      <td>Mary</td>\n",
       "      <td>N</td>\n",
       "      <td>7.7</td>\n",
       "      <td>8.0</td>\n",
       "      <td>NaN</td>\n",
       "      <td>B</td>\n",
       "      <td>0</td>\n",
       "    </tr>\n",
       "    <tr>\n",
       "      <th>4</th>\n",
       "      <td>Jeen</td>\n",
       "      <td>K</td>\n",
       "      <td>9.8</td>\n",
       "      <td>9.1</td>\n",
       "      <td>9.9</td>\n",
       "      <td>A+</td>\n",
       "      <td>1</td>\n",
       "    </tr>\n",
       "    <tr>\n",
       "      <th>5</th>\n",
       "      <td>Raj</td>\n",
       "      <td>M</td>\n",
       "      <td>8.9</td>\n",
       "      <td>9.1</td>\n",
       "      <td>9.3</td>\n",
       "      <td>A</td>\n",
       "      <td>1</td>\n",
       "    </tr>\n",
       "    <tr>\n",
       "      <th>6</th>\n",
       "      <td>Hassan</td>\n",
       "      <td>V</td>\n",
       "      <td>9.9</td>\n",
       "      <td>9.0</td>\n",
       "      <td>9.2</td>\n",
       "      <td>A</td>\n",
       "      <td>1</td>\n",
       "    </tr>\n",
       "    <tr>\n",
       "      <th>7</th>\n",
       "      <td>Mari</td>\n",
       "      <td>N</td>\n",
       "      <td>7.7</td>\n",
       "      <td>8.0</td>\n",
       "      <td>7.1</td>\n",
       "      <td>B</td>\n",
       "      <td>1</td>\n",
       "    </tr>\n",
       "    <tr>\n",
       "      <th>8</th>\n",
       "      <td>Jess</td>\n",
       "      <td>K</td>\n",
       "      <td>NaN</td>\n",
       "      <td>9.1</td>\n",
       "      <td>9.9</td>\n",
       "      <td>A+</td>\n",
       "      <td>1</td>\n",
       "    </tr>\n",
       "    <tr>\n",
       "      <th>9</th>\n",
       "      <td>Rajini</td>\n",
       "      <td>M</td>\n",
       "      <td>NaN</td>\n",
       "      <td>9.1</td>\n",
       "      <td>9.3</td>\n",
       "      <td>A</td>\n",
       "      <td>0</td>\n",
       "    </tr>\n",
       "    <tr>\n",
       "      <th>10</th>\n",
       "      <td>Kiran</td>\n",
       "      <td>V</td>\n",
       "      <td>NaN</td>\n",
       "      <td>9.3</td>\n",
       "      <td>9.2</td>\n",
       "      <td>A</td>\n",
       "      <td>0</td>\n",
       "    </tr>\n",
       "    <tr>\n",
       "      <th>11</th>\n",
       "      <td>Maya</td>\n",
       "      <td>N</td>\n",
       "      <td>7.7</td>\n",
       "      <td>8.0</td>\n",
       "      <td>7.1</td>\n",
       "      <td>B</td>\n",
       "      <td>0</td>\n",
       "    </tr>\n",
       "    <tr>\n",
       "      <th>12</th>\n",
       "      <td>Jolin</td>\n",
       "      <td>K</td>\n",
       "      <td>9.8</td>\n",
       "      <td>9.1</td>\n",
       "      <td>9.9</td>\n",
       "      <td>A+</td>\n",
       "      <td>1</td>\n",
       "    </tr>\n",
       "    <tr>\n",
       "      <th>13</th>\n",
       "      <td>Rajesh</td>\n",
       "      <td>M</td>\n",
       "      <td>8.9</td>\n",
       "      <td>9.1</td>\n",
       "      <td>9.3</td>\n",
       "      <td>A</td>\n",
       "      <td>1</td>\n",
       "    </tr>\n",
       "    <tr>\n",
       "      <th>14</th>\n",
       "      <td>Riya</td>\n",
       "      <td>M</td>\n",
       "      <td>9.3</td>\n",
       "      <td>9.9</td>\n",
       "      <td>10.0</td>\n",
       "      <td>A</td>\n",
       "      <td>1</td>\n",
       "    </tr>\n",
       "    <tr>\n",
       "      <th>15</th>\n",
       "      <td>Sana</td>\n",
       "      <td>V</td>\n",
       "      <td>9.9</td>\n",
       "      <td>9.3</td>\n",
       "      <td>9.2</td>\n",
       "      <td>A</td>\n",
       "      <td>0</td>\n",
       "    </tr>\n",
       "    <tr>\n",
       "      <th>16</th>\n",
       "      <td>Mark</td>\n",
       "      <td>N</td>\n",
       "      <td>7.7</td>\n",
       "      <td>8.0</td>\n",
       "      <td>7.0</td>\n",
       "      <td>B</td>\n",
       "      <td>0</td>\n",
       "    </tr>\n",
       "  </tbody>\n",
       "</table>\n",
       "</div>"
      ],
      "text/plain": [
       "     Names Initials  SEM1  SEM2  SEM3 Grade  Placed\n",
       "0      Joe        K   9.8  10.0   9.9    A+       1\n",
       "1   Rajesh        M   8.9   9.1   9.3     A       1\n",
       "2   Kissan        V   9.9   9.8  10.0     A       0\n",
       "3     Mary        N   7.7   8.0   NaN     B       0\n",
       "4     Jeen        K   9.8   9.1   9.9    A+       1\n",
       "5      Raj        M   8.9   9.1   9.3     A       1\n",
       "6   Hassan        V   9.9   9.0   9.2     A       1\n",
       "7     Mari        N   7.7   8.0   7.1     B       1\n",
       "8     Jess        K   NaN   9.1   9.9    A+       1\n",
       "9   Rajini        M   NaN   9.1   9.3     A       0\n",
       "10   Kiran        V   NaN   9.3   9.2     A       0\n",
       "11    Maya        N   7.7   8.0   7.1     B       0\n",
       "12   Jolin        K   9.8   9.1   9.9    A+       1\n",
       "13  Rajesh        M   8.9   9.1   9.3     A       1\n",
       "14    Riya        M   9.3   9.9  10.0     A       1\n",
       "15    Sana        V   9.9   9.3   9.2     A       0\n",
       "16    Mark        N   7.7   8.0   7.0     B       0"
      ]
     },
     "execution_count": 124,
     "metadata": {},
     "output_type": "execute_result"
    }
   ],
   "source": [
    "demodf"
   ]
  },
  {
   "cell_type": "code",
   "execution_count": 125,
   "id": "0abbce6a-bba1-4f9b-a5f2-ed3680436536",
   "metadata": {},
   "outputs": [
    {
     "data": {
      "text/plain": [
       "Names       0\n",
       "Initials    0\n",
       "SEM1        3\n",
       "SEM2        0\n",
       "SEM3        1\n",
       "Grade       0\n",
       "Placed      0\n",
       "dtype: int64"
      ]
     },
     "execution_count": 125,
     "metadata": {},
     "output_type": "execute_result"
    }
   ],
   "source": [
    "demodf.isnull().sum()"
   ]
  },
  {
   "cell_type": "code",
   "execution_count": 126,
   "id": "2698804e-1ff1-4601-a96c-0a70edf5c61e",
   "metadata": {},
   "outputs": [
    {
     "data": {
      "text/html": [
       "<div>\n",
       "<style scoped>\n",
       "    .dataframe tbody tr th:only-of-type {\n",
       "        vertical-align: middle;\n",
       "    }\n",
       "\n",
       "    .dataframe tbody tr th {\n",
       "        vertical-align: top;\n",
       "    }\n",
       "\n",
       "    .dataframe thead th {\n",
       "        text-align: right;\n",
       "    }\n",
       "</style>\n",
       "<table border=\"1\" class=\"dataframe\">\n",
       "  <thead>\n",
       "    <tr style=\"text-align: right;\">\n",
       "      <th></th>\n",
       "      <th>Names</th>\n",
       "      <th>Initials</th>\n",
       "      <th>SEM1</th>\n",
       "      <th>SEM2</th>\n",
       "      <th>SEM3</th>\n",
       "      <th>Grade</th>\n",
       "      <th>Placed</th>\n",
       "    </tr>\n",
       "  </thead>\n",
       "  <tbody>\n",
       "    <tr>\n",
       "      <th>0</th>\n",
       "      <td>Joe</td>\n",
       "      <td>K</td>\n",
       "      <td>9.8</td>\n",
       "      <td>10.0</td>\n",
       "      <td>9.9</td>\n",
       "      <td>A+</td>\n",
       "      <td>1</td>\n",
       "    </tr>\n",
       "    <tr>\n",
       "      <th>1</th>\n",
       "      <td>Rajesh</td>\n",
       "      <td>M</td>\n",
       "      <td>8.9</td>\n",
       "      <td>9.1</td>\n",
       "      <td>9.3</td>\n",
       "      <td>A</td>\n",
       "      <td>1</td>\n",
       "    </tr>\n",
       "    <tr>\n",
       "      <th>2</th>\n",
       "      <td>Kissan</td>\n",
       "      <td>V</td>\n",
       "      <td>9.9</td>\n",
       "      <td>9.8</td>\n",
       "      <td>10.0</td>\n",
       "      <td>A</td>\n",
       "      <td>0</td>\n",
       "    </tr>\n",
       "    <tr>\n",
       "      <th>3</th>\n",
       "      <td>Mary</td>\n",
       "      <td>N</td>\n",
       "      <td>7.7</td>\n",
       "      <td>8.0</td>\n",
       "      <td>7.0</td>\n",
       "      <td>B</td>\n",
       "      <td>0</td>\n",
       "    </tr>\n",
       "    <tr>\n",
       "      <th>4</th>\n",
       "      <td>Jeen</td>\n",
       "      <td>K</td>\n",
       "      <td>9.8</td>\n",
       "      <td>9.1</td>\n",
       "      <td>9.9</td>\n",
       "      <td>A+</td>\n",
       "      <td>1</td>\n",
       "    </tr>\n",
       "    <tr>\n",
       "      <th>5</th>\n",
       "      <td>Raj</td>\n",
       "      <td>M</td>\n",
       "      <td>8.9</td>\n",
       "      <td>9.1</td>\n",
       "      <td>9.3</td>\n",
       "      <td>A</td>\n",
       "      <td>1</td>\n",
       "    </tr>\n",
       "    <tr>\n",
       "      <th>6</th>\n",
       "      <td>Hassan</td>\n",
       "      <td>V</td>\n",
       "      <td>9.9</td>\n",
       "      <td>9.0</td>\n",
       "      <td>9.2</td>\n",
       "      <td>A</td>\n",
       "      <td>1</td>\n",
       "    </tr>\n",
       "    <tr>\n",
       "      <th>7</th>\n",
       "      <td>Mari</td>\n",
       "      <td>N</td>\n",
       "      <td>7.7</td>\n",
       "      <td>8.0</td>\n",
       "      <td>7.1</td>\n",
       "      <td>B</td>\n",
       "      <td>1</td>\n",
       "    </tr>\n",
       "    <tr>\n",
       "      <th>8</th>\n",
       "      <td>Jess</td>\n",
       "      <td>K</td>\n",
       "      <td>7.0</td>\n",
       "      <td>9.1</td>\n",
       "      <td>9.9</td>\n",
       "      <td>A+</td>\n",
       "      <td>1</td>\n",
       "    </tr>\n",
       "    <tr>\n",
       "      <th>9</th>\n",
       "      <td>Rajini</td>\n",
       "      <td>M</td>\n",
       "      <td>7.0</td>\n",
       "      <td>9.1</td>\n",
       "      <td>9.3</td>\n",
       "      <td>A</td>\n",
       "      <td>0</td>\n",
       "    </tr>\n",
       "    <tr>\n",
       "      <th>10</th>\n",
       "      <td>Kiran</td>\n",
       "      <td>V</td>\n",
       "      <td>7.0</td>\n",
       "      <td>9.3</td>\n",
       "      <td>9.2</td>\n",
       "      <td>A</td>\n",
       "      <td>0</td>\n",
       "    </tr>\n",
       "    <tr>\n",
       "      <th>11</th>\n",
       "      <td>Maya</td>\n",
       "      <td>N</td>\n",
       "      <td>7.7</td>\n",
       "      <td>8.0</td>\n",
       "      <td>7.1</td>\n",
       "      <td>B</td>\n",
       "      <td>0</td>\n",
       "    </tr>\n",
       "    <tr>\n",
       "      <th>12</th>\n",
       "      <td>Jolin</td>\n",
       "      <td>K</td>\n",
       "      <td>9.8</td>\n",
       "      <td>9.1</td>\n",
       "      <td>9.9</td>\n",
       "      <td>A+</td>\n",
       "      <td>1</td>\n",
       "    </tr>\n",
       "    <tr>\n",
       "      <th>13</th>\n",
       "      <td>Rajesh</td>\n",
       "      <td>M</td>\n",
       "      <td>8.9</td>\n",
       "      <td>9.1</td>\n",
       "      <td>9.3</td>\n",
       "      <td>A</td>\n",
       "      <td>1</td>\n",
       "    </tr>\n",
       "    <tr>\n",
       "      <th>14</th>\n",
       "      <td>Riya</td>\n",
       "      <td>M</td>\n",
       "      <td>9.3</td>\n",
       "      <td>9.9</td>\n",
       "      <td>10.0</td>\n",
       "      <td>A</td>\n",
       "      <td>1</td>\n",
       "    </tr>\n",
       "    <tr>\n",
       "      <th>15</th>\n",
       "      <td>Sana</td>\n",
       "      <td>V</td>\n",
       "      <td>9.9</td>\n",
       "      <td>9.3</td>\n",
       "      <td>9.2</td>\n",
       "      <td>A</td>\n",
       "      <td>0</td>\n",
       "    </tr>\n",
       "    <tr>\n",
       "      <th>16</th>\n",
       "      <td>Mark</td>\n",
       "      <td>N</td>\n",
       "      <td>7.7</td>\n",
       "      <td>8.0</td>\n",
       "      <td>7.0</td>\n",
       "      <td>B</td>\n",
       "      <td>0</td>\n",
       "    </tr>\n",
       "  </tbody>\n",
       "</table>\n",
       "</div>"
      ],
      "text/plain": [
       "     Names Initials  SEM1  SEM2  SEM3 Grade  Placed\n",
       "0      Joe        K   9.8  10.0   9.9    A+       1\n",
       "1   Rajesh        M   8.9   9.1   9.3     A       1\n",
       "2   Kissan        V   9.9   9.8  10.0     A       0\n",
       "3     Mary        N   7.7   8.0   7.0     B       0\n",
       "4     Jeen        K   9.8   9.1   9.9    A+       1\n",
       "5      Raj        M   8.9   9.1   9.3     A       1\n",
       "6   Hassan        V   9.9   9.0   9.2     A       1\n",
       "7     Mari        N   7.7   8.0   7.1     B       1\n",
       "8     Jess        K   7.0   9.1   9.9    A+       1\n",
       "9   Rajini        M   7.0   9.1   9.3     A       0\n",
       "10   Kiran        V   7.0   9.3   9.2     A       0\n",
       "11    Maya        N   7.7   8.0   7.1     B       0\n",
       "12   Jolin        K   9.8   9.1   9.9    A+       1\n",
       "13  Rajesh        M   8.9   9.1   9.3     A       1\n",
       "14    Riya        M   9.3   9.9  10.0     A       1\n",
       "15    Sana        V   9.9   9.3   9.2     A       0\n",
       "16    Mark        N   7.7   8.0   7.0     B       0"
      ]
     },
     "execution_count": 126,
     "metadata": {},
     "output_type": "execute_result"
    }
   ],
   "source": [
    "demodf.fillna(7)"
   ]
  },
  {
   "cell_type": "code",
   "execution_count": 127,
   "id": "d8299929-7ce6-48ac-a1e4-a25c204f0a3e",
   "metadata": {},
   "outputs": [
    {
     "data": {
      "text/html": [
       "<div>\n",
       "<style scoped>\n",
       "    .dataframe tbody tr th:only-of-type {\n",
       "        vertical-align: middle;\n",
       "    }\n",
       "\n",
       "    .dataframe tbody tr th {\n",
       "        vertical-align: top;\n",
       "    }\n",
       "\n",
       "    .dataframe thead th {\n",
       "        text-align: right;\n",
       "    }\n",
       "</style>\n",
       "<table border=\"1\" class=\"dataframe\">\n",
       "  <thead>\n",
       "    <tr style=\"text-align: right;\">\n",
       "      <th></th>\n",
       "      <th>Names</th>\n",
       "      <th>Initials</th>\n",
       "      <th>SEM1</th>\n",
       "      <th>SEM2</th>\n",
       "      <th>SEM3</th>\n",
       "      <th>Grade</th>\n",
       "      <th>Placed</th>\n",
       "    </tr>\n",
       "  </thead>\n",
       "  <tbody>\n",
       "    <tr>\n",
       "      <th>0</th>\n",
       "      <td>Joe</td>\n",
       "      <td>K</td>\n",
       "      <td>9.8</td>\n",
       "      <td>10.0</td>\n",
       "      <td>9.9</td>\n",
       "      <td>A+</td>\n",
       "      <td>1</td>\n",
       "    </tr>\n",
       "    <tr>\n",
       "      <th>1</th>\n",
       "      <td>Rajesh</td>\n",
       "      <td>M</td>\n",
       "      <td>8.9</td>\n",
       "      <td>9.1</td>\n",
       "      <td>9.3</td>\n",
       "      <td>A</td>\n",
       "      <td>1</td>\n",
       "    </tr>\n",
       "    <tr>\n",
       "      <th>2</th>\n",
       "      <td>Kissan</td>\n",
       "      <td>V</td>\n",
       "      <td>9.9</td>\n",
       "      <td>9.8</td>\n",
       "      <td>10.0</td>\n",
       "      <td>A</td>\n",
       "      <td>0</td>\n",
       "    </tr>\n",
       "    <tr>\n",
       "      <th>3</th>\n",
       "      <td>Mary</td>\n",
       "      <td>N</td>\n",
       "      <td>7.7</td>\n",
       "      <td>8.0</td>\n",
       "      <td>7.0</td>\n",
       "      <td>B</td>\n",
       "      <td>0</td>\n",
       "    </tr>\n",
       "    <tr>\n",
       "      <th>4</th>\n",
       "      <td>Jeen</td>\n",
       "      <td>K</td>\n",
       "      <td>9.8</td>\n",
       "      <td>9.1</td>\n",
       "      <td>9.9</td>\n",
       "      <td>A+</td>\n",
       "      <td>1</td>\n",
       "    </tr>\n",
       "    <tr>\n",
       "      <th>5</th>\n",
       "      <td>Raj</td>\n",
       "      <td>M</td>\n",
       "      <td>8.9</td>\n",
       "      <td>9.1</td>\n",
       "      <td>9.3</td>\n",
       "      <td>A</td>\n",
       "      <td>1</td>\n",
       "    </tr>\n",
       "    <tr>\n",
       "      <th>6</th>\n",
       "      <td>Hassan</td>\n",
       "      <td>V</td>\n",
       "      <td>9.9</td>\n",
       "      <td>9.0</td>\n",
       "      <td>9.2</td>\n",
       "      <td>A</td>\n",
       "      <td>1</td>\n",
       "    </tr>\n",
       "    <tr>\n",
       "      <th>7</th>\n",
       "      <td>Mari</td>\n",
       "      <td>N</td>\n",
       "      <td>7.7</td>\n",
       "      <td>8.0</td>\n",
       "      <td>7.1</td>\n",
       "      <td>B</td>\n",
       "      <td>1</td>\n",
       "    </tr>\n",
       "    <tr>\n",
       "      <th>8</th>\n",
       "      <td>Jess</td>\n",
       "      <td>K</td>\n",
       "      <td>7.0</td>\n",
       "      <td>9.1</td>\n",
       "      <td>9.9</td>\n",
       "      <td>A+</td>\n",
       "      <td>1</td>\n",
       "    </tr>\n",
       "    <tr>\n",
       "      <th>9</th>\n",
       "      <td>Rajini</td>\n",
       "      <td>M</td>\n",
       "      <td>7.0</td>\n",
       "      <td>9.1</td>\n",
       "      <td>9.3</td>\n",
       "      <td>A</td>\n",
       "      <td>0</td>\n",
       "    </tr>\n",
       "    <tr>\n",
       "      <th>10</th>\n",
       "      <td>Kiran</td>\n",
       "      <td>V</td>\n",
       "      <td>7.0</td>\n",
       "      <td>9.3</td>\n",
       "      <td>9.2</td>\n",
       "      <td>A</td>\n",
       "      <td>0</td>\n",
       "    </tr>\n",
       "    <tr>\n",
       "      <th>11</th>\n",
       "      <td>Maya</td>\n",
       "      <td>N</td>\n",
       "      <td>7.7</td>\n",
       "      <td>8.0</td>\n",
       "      <td>7.1</td>\n",
       "      <td>B</td>\n",
       "      <td>0</td>\n",
       "    </tr>\n",
       "    <tr>\n",
       "      <th>12</th>\n",
       "      <td>Jolin</td>\n",
       "      <td>K</td>\n",
       "      <td>9.8</td>\n",
       "      <td>9.1</td>\n",
       "      <td>9.9</td>\n",
       "      <td>A+</td>\n",
       "      <td>1</td>\n",
       "    </tr>\n",
       "    <tr>\n",
       "      <th>13</th>\n",
       "      <td>Rajesh</td>\n",
       "      <td>M</td>\n",
       "      <td>8.9</td>\n",
       "      <td>9.1</td>\n",
       "      <td>9.3</td>\n",
       "      <td>A</td>\n",
       "      <td>1</td>\n",
       "    </tr>\n",
       "    <tr>\n",
       "      <th>14</th>\n",
       "      <td>Riya</td>\n",
       "      <td>M</td>\n",
       "      <td>9.3</td>\n",
       "      <td>9.9</td>\n",
       "      <td>10.0</td>\n",
       "      <td>A</td>\n",
       "      <td>1</td>\n",
       "    </tr>\n",
       "    <tr>\n",
       "      <th>15</th>\n",
       "      <td>Sana</td>\n",
       "      <td>V</td>\n",
       "      <td>9.9</td>\n",
       "      <td>9.3</td>\n",
       "      <td>9.2</td>\n",
       "      <td>A</td>\n",
       "      <td>0</td>\n",
       "    </tr>\n",
       "    <tr>\n",
       "      <th>16</th>\n",
       "      <td>Mark</td>\n",
       "      <td>N</td>\n",
       "      <td>7.7</td>\n",
       "      <td>8.0</td>\n",
       "      <td>7.0</td>\n",
       "      <td>B</td>\n",
       "      <td>0</td>\n",
       "    </tr>\n",
       "  </tbody>\n",
       "</table>\n",
       "</div>"
      ],
      "text/plain": [
       "     Names Initials  SEM1  SEM2  SEM3 Grade  Placed\n",
       "0      Joe        K   9.8  10.0   9.9    A+       1\n",
       "1   Rajesh        M   8.9   9.1   9.3     A       1\n",
       "2   Kissan        V   9.9   9.8  10.0     A       0\n",
       "3     Mary        N   7.7   8.0   7.0     B       0\n",
       "4     Jeen        K   9.8   9.1   9.9    A+       1\n",
       "5      Raj        M   8.9   9.1   9.3     A       1\n",
       "6   Hassan        V   9.9   9.0   9.2     A       1\n",
       "7     Mari        N   7.7   8.0   7.1     B       1\n",
       "8     Jess        K   7.0   9.1   9.9    A+       1\n",
       "9   Rajini        M   7.0   9.1   9.3     A       0\n",
       "10   Kiran        V   7.0   9.3   9.2     A       0\n",
       "11    Maya        N   7.7   8.0   7.1     B       0\n",
       "12   Jolin        K   9.8   9.1   9.9    A+       1\n",
       "13  Rajesh        M   8.9   9.1   9.3     A       1\n",
       "14    Riya        M   9.3   9.9  10.0     A       1\n",
       "15    Sana        V   9.9   9.3   9.2     A       0\n",
       "16    Mark        N   7.7   8.0   7.0     B       0"
      ]
     },
     "execution_count": 127,
     "metadata": {},
     "output_type": "execute_result"
    }
   ],
   "source": [
    "demodf.fillna(7,inplace=True)\n",
    "demodf"
   ]
  },
  {
   "cell_type": "code",
   "execution_count": 128,
   "id": "d4f35cb1-9808-42b0-962b-97a08b7d98a3",
   "metadata": {},
   "outputs": [
    {
     "data": {
      "text/html": [
       "<div>\n",
       "<style scoped>\n",
       "    .dataframe tbody tr th:only-of-type {\n",
       "        vertical-align: middle;\n",
       "    }\n",
       "\n",
       "    .dataframe tbody tr th {\n",
       "        vertical-align: top;\n",
       "    }\n",
       "\n",
       "    .dataframe thead th {\n",
       "        text-align: right;\n",
       "    }\n",
       "</style>\n",
       "<table border=\"1\" class=\"dataframe\">\n",
       "  <thead>\n",
       "    <tr style=\"text-align: right;\">\n",
       "      <th></th>\n",
       "      <th>Names</th>\n",
       "      <th>Initials</th>\n",
       "      <th>SEM1</th>\n",
       "      <th>SEM2</th>\n",
       "      <th>SEM3</th>\n",
       "      <th>Grade</th>\n",
       "      <th>Placed</th>\n",
       "    </tr>\n",
       "  </thead>\n",
       "  <tbody>\n",
       "    <tr>\n",
       "      <th>0</th>\n",
       "      <td>Joe</td>\n",
       "      <td>K</td>\n",
       "      <td>9.8</td>\n",
       "      <td>10.0</td>\n",
       "      <td>9.9</td>\n",
       "      <td>A+</td>\n",
       "      <td>1</td>\n",
       "    </tr>\n",
       "    <tr>\n",
       "      <th>1</th>\n",
       "      <td>Rajesh</td>\n",
       "      <td>M</td>\n",
       "      <td>8.9</td>\n",
       "      <td>9.1</td>\n",
       "      <td>9.3</td>\n",
       "      <td>A</td>\n",
       "      <td>1</td>\n",
       "    </tr>\n",
       "    <tr>\n",
       "      <th>2</th>\n",
       "      <td>Kissan</td>\n",
       "      <td>V</td>\n",
       "      <td>9.9</td>\n",
       "      <td>9.8</td>\n",
       "      <td>10.0</td>\n",
       "      <td>A</td>\n",
       "      <td>0</td>\n",
       "    </tr>\n",
       "    <tr>\n",
       "      <th>3</th>\n",
       "      <td>Mary</td>\n",
       "      <td>N</td>\n",
       "      <td>7.7</td>\n",
       "      <td>8.0</td>\n",
       "      <td>7.0</td>\n",
       "      <td>B</td>\n",
       "      <td>0</td>\n",
       "    </tr>\n",
       "    <tr>\n",
       "      <th>4</th>\n",
       "      <td>Jeen</td>\n",
       "      <td>K</td>\n",
       "      <td>9.8</td>\n",
       "      <td>9.1</td>\n",
       "      <td>9.9</td>\n",
       "      <td>A+</td>\n",
       "      <td>1</td>\n",
       "    </tr>\n",
       "    <tr>\n",
       "      <th>5</th>\n",
       "      <td>Raj</td>\n",
       "      <td>M</td>\n",
       "      <td>8.9</td>\n",
       "      <td>9.1</td>\n",
       "      <td>9.3</td>\n",
       "      <td>A</td>\n",
       "      <td>1</td>\n",
       "    </tr>\n",
       "    <tr>\n",
       "      <th>6</th>\n",
       "      <td>Hassan</td>\n",
       "      <td>V</td>\n",
       "      <td>9.9</td>\n",
       "      <td>9.0</td>\n",
       "      <td>9.2</td>\n",
       "      <td>A</td>\n",
       "      <td>1</td>\n",
       "    </tr>\n",
       "    <tr>\n",
       "      <th>7</th>\n",
       "      <td>Mari</td>\n",
       "      <td>N</td>\n",
       "      <td>7.7</td>\n",
       "      <td>8.0</td>\n",
       "      <td>7.1</td>\n",
       "      <td>B</td>\n",
       "      <td>1</td>\n",
       "    </tr>\n",
       "    <tr>\n",
       "      <th>8</th>\n",
       "      <td>Jess</td>\n",
       "      <td>K</td>\n",
       "      <td>7.0</td>\n",
       "      <td>9.1</td>\n",
       "      <td>9.9</td>\n",
       "      <td>A+</td>\n",
       "      <td>1</td>\n",
       "    </tr>\n",
       "    <tr>\n",
       "      <th>9</th>\n",
       "      <td>Rajini</td>\n",
       "      <td>M</td>\n",
       "      <td>7.0</td>\n",
       "      <td>9.1</td>\n",
       "      <td>9.3</td>\n",
       "      <td>A</td>\n",
       "      <td>0</td>\n",
       "    </tr>\n",
       "    <tr>\n",
       "      <th>10</th>\n",
       "      <td>Kiran</td>\n",
       "      <td>V</td>\n",
       "      <td>7.0</td>\n",
       "      <td>9.3</td>\n",
       "      <td>9.2</td>\n",
       "      <td>A</td>\n",
       "      <td>0</td>\n",
       "    </tr>\n",
       "    <tr>\n",
       "      <th>11</th>\n",
       "      <td>Maya</td>\n",
       "      <td>N</td>\n",
       "      <td>7.7</td>\n",
       "      <td>8.0</td>\n",
       "      <td>7.1</td>\n",
       "      <td>B</td>\n",
       "      <td>0</td>\n",
       "    </tr>\n",
       "    <tr>\n",
       "      <th>12</th>\n",
       "      <td>Jolin</td>\n",
       "      <td>K</td>\n",
       "      <td>9.8</td>\n",
       "      <td>9.1</td>\n",
       "      <td>9.9</td>\n",
       "      <td>A+</td>\n",
       "      <td>1</td>\n",
       "    </tr>\n",
       "    <tr>\n",
       "      <th>14</th>\n",
       "      <td>Riya</td>\n",
       "      <td>M</td>\n",
       "      <td>9.3</td>\n",
       "      <td>9.9</td>\n",
       "      <td>10.0</td>\n",
       "      <td>A</td>\n",
       "      <td>1</td>\n",
       "    </tr>\n",
       "    <tr>\n",
       "      <th>15</th>\n",
       "      <td>Sana</td>\n",
       "      <td>V</td>\n",
       "      <td>9.9</td>\n",
       "      <td>9.3</td>\n",
       "      <td>9.2</td>\n",
       "      <td>A</td>\n",
       "      <td>0</td>\n",
       "    </tr>\n",
       "    <tr>\n",
       "      <th>16</th>\n",
       "      <td>Mark</td>\n",
       "      <td>N</td>\n",
       "      <td>7.7</td>\n",
       "      <td>8.0</td>\n",
       "      <td>7.0</td>\n",
       "      <td>B</td>\n",
       "      <td>0</td>\n",
       "    </tr>\n",
       "  </tbody>\n",
       "</table>\n",
       "</div>"
      ],
      "text/plain": [
       "     Names Initials  SEM1  SEM2  SEM3 Grade  Placed\n",
       "0      Joe        K   9.8  10.0   9.9    A+       1\n",
       "1   Rajesh        M   8.9   9.1   9.3     A       1\n",
       "2   Kissan        V   9.9   9.8  10.0     A       0\n",
       "3     Mary        N   7.7   8.0   7.0     B       0\n",
       "4     Jeen        K   9.8   9.1   9.9    A+       1\n",
       "5      Raj        M   8.9   9.1   9.3     A       1\n",
       "6   Hassan        V   9.9   9.0   9.2     A       1\n",
       "7     Mari        N   7.7   8.0   7.1     B       1\n",
       "8     Jess        K   7.0   9.1   9.9    A+       1\n",
       "9   Rajini        M   7.0   9.1   9.3     A       0\n",
       "10   Kiran        V   7.0   9.3   9.2     A       0\n",
       "11    Maya        N   7.7   8.0   7.1     B       0\n",
       "12   Jolin        K   9.8   9.1   9.9    A+       1\n",
       "14    Riya        M   9.3   9.9  10.0     A       1\n",
       "15    Sana        V   9.9   9.3   9.2     A       0\n",
       "16    Mark        N   7.7   8.0   7.0     B       0"
      ]
     },
     "execution_count": 128,
     "metadata": {},
     "output_type": "execute_result"
    }
   ],
   "source": [
    "demodf.drop_duplicates()"
   ]
  },
  {
   "cell_type": "code",
   "execution_count": 129,
   "id": "54522977-af13-4452-83cd-7ad1c0490729",
   "metadata": {},
   "outputs": [
    {
     "data": {
      "text/html": [
       "<div>\n",
       "<style scoped>\n",
       "    .dataframe tbody tr th:only-of-type {\n",
       "        vertical-align: middle;\n",
       "    }\n",
       "\n",
       "    .dataframe tbody tr th {\n",
       "        vertical-align: top;\n",
       "    }\n",
       "\n",
       "    .dataframe thead th {\n",
       "        text-align: right;\n",
       "    }\n",
       "</style>\n",
       "<table border=\"1\" class=\"dataframe\">\n",
       "  <thead>\n",
       "    <tr style=\"text-align: right;\">\n",
       "      <th></th>\n",
       "      <th>Names</th>\n",
       "      <th>Initials</th>\n",
       "      <th>SEM1</th>\n",
       "      <th>SEM2</th>\n",
       "      <th>SEM3</th>\n",
       "      <th>Grade</th>\n",
       "      <th>Placed</th>\n",
       "    </tr>\n",
       "  </thead>\n",
       "  <tbody>\n",
       "    <tr>\n",
       "      <th>0</th>\n",
       "      <td>Joe</td>\n",
       "      <td>K</td>\n",
       "      <td>9.8</td>\n",
       "      <td>10.0</td>\n",
       "      <td>9.9</td>\n",
       "      <td>A+</td>\n",
       "      <td>1</td>\n",
       "    </tr>\n",
       "    <tr>\n",
       "      <th>1</th>\n",
       "      <td>Rajesh</td>\n",
       "      <td>M</td>\n",
       "      <td>8.9</td>\n",
       "      <td>9.1</td>\n",
       "      <td>9.3</td>\n",
       "      <td>A</td>\n",
       "      <td>1</td>\n",
       "    </tr>\n",
       "    <tr>\n",
       "      <th>2</th>\n",
       "      <td>Kissan</td>\n",
       "      <td>V</td>\n",
       "      <td>9.9</td>\n",
       "      <td>9.8</td>\n",
       "      <td>10.0</td>\n",
       "      <td>A</td>\n",
       "      <td>0</td>\n",
       "    </tr>\n",
       "    <tr>\n",
       "      <th>3</th>\n",
       "      <td>Mary</td>\n",
       "      <td>N</td>\n",
       "      <td>7.7</td>\n",
       "      <td>8.0</td>\n",
       "      <td>7.0</td>\n",
       "      <td>B</td>\n",
       "      <td>0</td>\n",
       "    </tr>\n",
       "    <tr>\n",
       "      <th>4</th>\n",
       "      <td>Jeen</td>\n",
       "      <td>K</td>\n",
       "      <td>9.8</td>\n",
       "      <td>9.1</td>\n",
       "      <td>9.9</td>\n",
       "      <td>A+</td>\n",
       "      <td>1</td>\n",
       "    </tr>\n",
       "    <tr>\n",
       "      <th>5</th>\n",
       "      <td>Raj</td>\n",
       "      <td>M</td>\n",
       "      <td>8.9</td>\n",
       "      <td>9.1</td>\n",
       "      <td>9.3</td>\n",
       "      <td>A</td>\n",
       "      <td>1</td>\n",
       "    </tr>\n",
       "    <tr>\n",
       "      <th>6</th>\n",
       "      <td>Hassan</td>\n",
       "      <td>V</td>\n",
       "      <td>9.9</td>\n",
       "      <td>9.0</td>\n",
       "      <td>9.2</td>\n",
       "      <td>A</td>\n",
       "      <td>1</td>\n",
       "    </tr>\n",
       "    <tr>\n",
       "      <th>7</th>\n",
       "      <td>Mari</td>\n",
       "      <td>N</td>\n",
       "      <td>7.7</td>\n",
       "      <td>8.0</td>\n",
       "      <td>7.1</td>\n",
       "      <td>B</td>\n",
       "      <td>1</td>\n",
       "    </tr>\n",
       "    <tr>\n",
       "      <th>8</th>\n",
       "      <td>Jess</td>\n",
       "      <td>K</td>\n",
       "      <td>7.0</td>\n",
       "      <td>9.1</td>\n",
       "      <td>9.9</td>\n",
       "      <td>A+</td>\n",
       "      <td>1</td>\n",
       "    </tr>\n",
       "    <tr>\n",
       "      <th>9</th>\n",
       "      <td>Rajini</td>\n",
       "      <td>M</td>\n",
       "      <td>7.0</td>\n",
       "      <td>9.1</td>\n",
       "      <td>9.3</td>\n",
       "      <td>A</td>\n",
       "      <td>0</td>\n",
       "    </tr>\n",
       "    <tr>\n",
       "      <th>10</th>\n",
       "      <td>Kiran</td>\n",
       "      <td>V</td>\n",
       "      <td>7.0</td>\n",
       "      <td>9.3</td>\n",
       "      <td>9.2</td>\n",
       "      <td>A</td>\n",
       "      <td>0</td>\n",
       "    </tr>\n",
       "    <tr>\n",
       "      <th>11</th>\n",
       "      <td>Maya</td>\n",
       "      <td>N</td>\n",
       "      <td>7.7</td>\n",
       "      <td>8.0</td>\n",
       "      <td>7.1</td>\n",
       "      <td>B</td>\n",
       "      <td>0</td>\n",
       "    </tr>\n",
       "    <tr>\n",
       "      <th>12</th>\n",
       "      <td>Jolin</td>\n",
       "      <td>K</td>\n",
       "      <td>9.8</td>\n",
       "      <td>9.1</td>\n",
       "      <td>9.9</td>\n",
       "      <td>A+</td>\n",
       "      <td>1</td>\n",
       "    </tr>\n",
       "    <tr>\n",
       "      <th>14</th>\n",
       "      <td>Riya</td>\n",
       "      <td>M</td>\n",
       "      <td>9.3</td>\n",
       "      <td>9.9</td>\n",
       "      <td>10.0</td>\n",
       "      <td>A</td>\n",
       "      <td>1</td>\n",
       "    </tr>\n",
       "    <tr>\n",
       "      <th>15</th>\n",
       "      <td>Sana</td>\n",
       "      <td>V</td>\n",
       "      <td>9.9</td>\n",
       "      <td>9.3</td>\n",
       "      <td>9.2</td>\n",
       "      <td>A</td>\n",
       "      <td>0</td>\n",
       "    </tr>\n",
       "    <tr>\n",
       "      <th>16</th>\n",
       "      <td>Mark</td>\n",
       "      <td>N</td>\n",
       "      <td>7.7</td>\n",
       "      <td>8.0</td>\n",
       "      <td>7.0</td>\n",
       "      <td>B</td>\n",
       "      <td>0</td>\n",
       "    </tr>\n",
       "  </tbody>\n",
       "</table>\n",
       "</div>"
      ],
      "text/plain": [
       "     Names Initials  SEM1  SEM2  SEM3 Grade  Placed\n",
       "0      Joe        K   9.8  10.0   9.9    A+       1\n",
       "1   Rajesh        M   8.9   9.1   9.3     A       1\n",
       "2   Kissan        V   9.9   9.8  10.0     A       0\n",
       "3     Mary        N   7.7   8.0   7.0     B       0\n",
       "4     Jeen        K   9.8   9.1   9.9    A+       1\n",
       "5      Raj        M   8.9   9.1   9.3     A       1\n",
       "6   Hassan        V   9.9   9.0   9.2     A       1\n",
       "7     Mari        N   7.7   8.0   7.1     B       1\n",
       "8     Jess        K   7.0   9.1   9.9    A+       1\n",
       "9   Rajini        M   7.0   9.1   9.3     A       0\n",
       "10   Kiran        V   7.0   9.3   9.2     A       0\n",
       "11    Maya        N   7.7   8.0   7.1     B       0\n",
       "12   Jolin        K   9.8   9.1   9.9    A+       1\n",
       "14    Riya        M   9.3   9.9  10.0     A       1\n",
       "15    Sana        V   9.9   9.3   9.2     A       0\n",
       "16    Mark        N   7.7   8.0   7.0     B       0"
      ]
     },
     "execution_count": 129,
     "metadata": {},
     "output_type": "execute_result"
    }
   ],
   "source": [
    "demodf.drop_duplicates(inplace=True)\n",
    "demodf"
   ]
  },
  {
   "cell_type": "code",
   "execution_count": 130,
   "id": "2748b1ab-f94b-4df2-925b-46cd7f3c61ba",
   "metadata": {},
   "outputs": [
    {
     "data": {
      "text/html": [
       "<div>\n",
       "<style scoped>\n",
       "    .dataframe tbody tr th:only-of-type {\n",
       "        vertical-align: middle;\n",
       "    }\n",
       "\n",
       "    .dataframe tbody tr th {\n",
       "        vertical-align: top;\n",
       "    }\n",
       "\n",
       "    .dataframe thead th {\n",
       "        text-align: right;\n",
       "    }\n",
       "</style>\n",
       "<table border=\"1\" class=\"dataframe\">\n",
       "  <thead>\n",
       "    <tr style=\"text-align: right;\">\n",
       "      <th></th>\n",
       "      <th>Names</th>\n",
       "      <th>Initials</th>\n",
       "      <th>SEM1</th>\n",
       "      <th>SEM2</th>\n",
       "      <th>SEM3</th>\n",
       "      <th>Grade</th>\n",
       "      <th>Placed</th>\n",
       "      <th>Average</th>\n",
       "    </tr>\n",
       "  </thead>\n",
       "  <tbody>\n",
       "    <tr>\n",
       "      <th>0</th>\n",
       "      <td>Joe</td>\n",
       "      <td>K</td>\n",
       "      <td>9.8</td>\n",
       "      <td>10.0</td>\n",
       "      <td>9.9</td>\n",
       "      <td>A+</td>\n",
       "      <td>1</td>\n",
       "      <td>9.900000</td>\n",
       "    </tr>\n",
       "    <tr>\n",
       "      <th>1</th>\n",
       "      <td>Rajesh</td>\n",
       "      <td>M</td>\n",
       "      <td>8.9</td>\n",
       "      <td>9.1</td>\n",
       "      <td>9.3</td>\n",
       "      <td>A</td>\n",
       "      <td>1</td>\n",
       "      <td>9.100000</td>\n",
       "    </tr>\n",
       "    <tr>\n",
       "      <th>2</th>\n",
       "      <td>Kissan</td>\n",
       "      <td>V</td>\n",
       "      <td>9.9</td>\n",
       "      <td>9.8</td>\n",
       "      <td>10.0</td>\n",
       "      <td>A</td>\n",
       "      <td>0</td>\n",
       "      <td>9.900000</td>\n",
       "    </tr>\n",
       "    <tr>\n",
       "      <th>3</th>\n",
       "      <td>Mary</td>\n",
       "      <td>N</td>\n",
       "      <td>7.7</td>\n",
       "      <td>8.0</td>\n",
       "      <td>7.0</td>\n",
       "      <td>B</td>\n",
       "      <td>0</td>\n",
       "      <td>7.566667</td>\n",
       "    </tr>\n",
       "    <tr>\n",
       "      <th>4</th>\n",
       "      <td>Jeen</td>\n",
       "      <td>K</td>\n",
       "      <td>9.8</td>\n",
       "      <td>9.1</td>\n",
       "      <td>9.9</td>\n",
       "      <td>A+</td>\n",
       "      <td>1</td>\n",
       "      <td>9.600000</td>\n",
       "    </tr>\n",
       "    <tr>\n",
       "      <th>5</th>\n",
       "      <td>Raj</td>\n",
       "      <td>M</td>\n",
       "      <td>8.9</td>\n",
       "      <td>9.1</td>\n",
       "      <td>9.3</td>\n",
       "      <td>A</td>\n",
       "      <td>1</td>\n",
       "      <td>9.100000</td>\n",
       "    </tr>\n",
       "    <tr>\n",
       "      <th>6</th>\n",
       "      <td>Hassan</td>\n",
       "      <td>V</td>\n",
       "      <td>9.9</td>\n",
       "      <td>9.0</td>\n",
       "      <td>9.2</td>\n",
       "      <td>A</td>\n",
       "      <td>1</td>\n",
       "      <td>9.366667</td>\n",
       "    </tr>\n",
       "    <tr>\n",
       "      <th>7</th>\n",
       "      <td>Mari</td>\n",
       "      <td>N</td>\n",
       "      <td>7.7</td>\n",
       "      <td>8.0</td>\n",
       "      <td>7.1</td>\n",
       "      <td>B</td>\n",
       "      <td>1</td>\n",
       "      <td>7.600000</td>\n",
       "    </tr>\n",
       "    <tr>\n",
       "      <th>8</th>\n",
       "      <td>Jess</td>\n",
       "      <td>K</td>\n",
       "      <td>7.0</td>\n",
       "      <td>9.1</td>\n",
       "      <td>9.9</td>\n",
       "      <td>A+</td>\n",
       "      <td>1</td>\n",
       "      <td>8.666667</td>\n",
       "    </tr>\n",
       "    <tr>\n",
       "      <th>9</th>\n",
       "      <td>Rajini</td>\n",
       "      <td>M</td>\n",
       "      <td>7.0</td>\n",
       "      <td>9.1</td>\n",
       "      <td>9.3</td>\n",
       "      <td>A</td>\n",
       "      <td>0</td>\n",
       "      <td>8.466667</td>\n",
       "    </tr>\n",
       "    <tr>\n",
       "      <th>10</th>\n",
       "      <td>Kiran</td>\n",
       "      <td>V</td>\n",
       "      <td>7.0</td>\n",
       "      <td>9.3</td>\n",
       "      <td>9.2</td>\n",
       "      <td>A</td>\n",
       "      <td>0</td>\n",
       "      <td>8.500000</td>\n",
       "    </tr>\n",
       "    <tr>\n",
       "      <th>11</th>\n",
       "      <td>Maya</td>\n",
       "      <td>N</td>\n",
       "      <td>7.7</td>\n",
       "      <td>8.0</td>\n",
       "      <td>7.1</td>\n",
       "      <td>B</td>\n",
       "      <td>0</td>\n",
       "      <td>7.600000</td>\n",
       "    </tr>\n",
       "    <tr>\n",
       "      <th>12</th>\n",
       "      <td>Jolin</td>\n",
       "      <td>K</td>\n",
       "      <td>9.8</td>\n",
       "      <td>9.1</td>\n",
       "      <td>9.9</td>\n",
       "      <td>A+</td>\n",
       "      <td>1</td>\n",
       "      <td>9.600000</td>\n",
       "    </tr>\n",
       "    <tr>\n",
       "      <th>14</th>\n",
       "      <td>Riya</td>\n",
       "      <td>M</td>\n",
       "      <td>9.3</td>\n",
       "      <td>9.9</td>\n",
       "      <td>10.0</td>\n",
       "      <td>A</td>\n",
       "      <td>1</td>\n",
       "      <td>9.733333</td>\n",
       "    </tr>\n",
       "    <tr>\n",
       "      <th>15</th>\n",
       "      <td>Sana</td>\n",
       "      <td>V</td>\n",
       "      <td>9.9</td>\n",
       "      <td>9.3</td>\n",
       "      <td>9.2</td>\n",
       "      <td>A</td>\n",
       "      <td>0</td>\n",
       "      <td>9.466667</td>\n",
       "    </tr>\n",
       "    <tr>\n",
       "      <th>16</th>\n",
       "      <td>Mark</td>\n",
       "      <td>N</td>\n",
       "      <td>7.7</td>\n",
       "      <td>8.0</td>\n",
       "      <td>7.0</td>\n",
       "      <td>B</td>\n",
       "      <td>0</td>\n",
       "      <td>7.566667</td>\n",
       "    </tr>\n",
       "  </tbody>\n",
       "</table>\n",
       "</div>"
      ],
      "text/plain": [
       "     Names Initials  SEM1  SEM2  SEM3 Grade  Placed   Average\n",
       "0      Joe        K   9.8  10.0   9.9    A+       1  9.900000\n",
       "1   Rajesh        M   8.9   9.1   9.3     A       1  9.100000\n",
       "2   Kissan        V   9.9   9.8  10.0     A       0  9.900000\n",
       "3     Mary        N   7.7   8.0   7.0     B       0  7.566667\n",
       "4     Jeen        K   9.8   9.1   9.9    A+       1  9.600000\n",
       "5      Raj        M   8.9   9.1   9.3     A       1  9.100000\n",
       "6   Hassan        V   9.9   9.0   9.2     A       1  9.366667\n",
       "7     Mari        N   7.7   8.0   7.1     B       1  7.600000\n",
       "8     Jess        K   7.0   9.1   9.9    A+       1  8.666667\n",
       "9   Rajini        M   7.0   9.1   9.3     A       0  8.466667\n",
       "10   Kiran        V   7.0   9.3   9.2     A       0  8.500000\n",
       "11    Maya        N   7.7   8.0   7.1     B       0  7.600000\n",
       "12   Jolin        K   9.8   9.1   9.9    A+       1  9.600000\n",
       "14    Riya        M   9.3   9.9  10.0     A       1  9.733333\n",
       "15    Sana        V   9.9   9.3   9.2     A       0  9.466667\n",
       "16    Mark        N   7.7   8.0   7.0     B       0  7.566667"
      ]
     },
     "execution_count": 130,
     "metadata": {},
     "output_type": "execute_result"
    }
   ],
   "source": [
    "demodf['Average']=(demodf['SEM1']+demodf['SEM2']+demodf['SEM3'])/3\n",
    "demodf"
   ]
  },
  {
   "cell_type": "code",
   "execution_count": 135,
   "id": "115cb13f-d9bc-4685-8eca-5545636682f4",
   "metadata": {},
   "outputs": [
    {
     "data": {
      "text/html": [
       "<div>\n",
       "<style scoped>\n",
       "    .dataframe tbody tr th:only-of-type {\n",
       "        vertical-align: middle;\n",
       "    }\n",
       "\n",
       "    .dataframe tbody tr th {\n",
       "        vertical-align: top;\n",
       "    }\n",
       "\n",
       "    .dataframe thead th {\n",
       "        text-align: right;\n",
       "    }\n",
       "</style>\n",
       "<table border=\"1\" class=\"dataframe\">\n",
       "  <thead>\n",
       "    <tr style=\"text-align: right;\">\n",
       "      <th></th>\n",
       "      <th>Names</th>\n",
       "      <th>Grade</th>\n",
       "    </tr>\n",
       "  </thead>\n",
       "  <tbody>\n",
       "    <tr>\n",
       "      <th>0</th>\n",
       "      <td>Joe</td>\n",
       "      <td>A+</td>\n",
       "    </tr>\n",
       "    <tr>\n",
       "      <th>1</th>\n",
       "      <td>Rajesh</td>\n",
       "      <td>A</td>\n",
       "    </tr>\n",
       "    <tr>\n",
       "      <th>2</th>\n",
       "      <td>Kissan</td>\n",
       "      <td>A</td>\n",
       "    </tr>\n",
       "    <tr>\n",
       "      <th>3</th>\n",
       "      <td>Mary</td>\n",
       "      <td>B</td>\n",
       "    </tr>\n",
       "    <tr>\n",
       "      <th>4</th>\n",
       "      <td>Jeen</td>\n",
       "      <td>A+</td>\n",
       "    </tr>\n",
       "  </tbody>\n",
       "</table>\n",
       "</div>"
      ],
      "text/plain": [
       "    Names Grade\n",
       "0     Joe    A+\n",
       "1  Rajesh     A\n",
       "2  Kissan     A\n",
       "3    Mary     B\n",
       "4    Jeen    A+"
      ]
     },
     "execution_count": 135,
     "metadata": {},
     "output_type": "execute_result"
    }
   ],
   "source": [
    "#access:\n",
    "demodf.loc[0:4 ,['Names','Grade']] #rows and col -index"
   ]
  },
  {
   "cell_type": "code",
   "execution_count": 137,
   "id": "8a55d7fd-459d-44ee-9b91-32e5dc12bef2",
   "metadata": {},
   "outputs": [
    {
     "data": {
      "text/html": [
       "<div>\n",
       "<style scoped>\n",
       "    .dataframe tbody tr th:only-of-type {\n",
       "        vertical-align: middle;\n",
       "    }\n",
       "\n",
       "    .dataframe tbody tr th {\n",
       "        vertical-align: top;\n",
       "    }\n",
       "\n",
       "    .dataframe thead th {\n",
       "        text-align: right;\n",
       "    }\n",
       "</style>\n",
       "<table border=\"1\" class=\"dataframe\">\n",
       "  <thead>\n",
       "    <tr style=\"text-align: right;\">\n",
       "      <th></th>\n",
       "      <th>Names</th>\n",
       "      <th>Initials</th>\n",
       "      <th>SEM1</th>\n",
       "    </tr>\n",
       "  </thead>\n",
       "  <tbody>\n",
       "    <tr>\n",
       "      <th>0</th>\n",
       "      <td>Joe</td>\n",
       "      <td>K</td>\n",
       "      <td>9.8</td>\n",
       "    </tr>\n",
       "    <tr>\n",
       "      <th>1</th>\n",
       "      <td>Rajesh</td>\n",
       "      <td>M</td>\n",
       "      <td>8.9</td>\n",
       "    </tr>\n",
       "    <tr>\n",
       "      <th>2</th>\n",
       "      <td>Kissan</td>\n",
       "      <td>V</td>\n",
       "      <td>9.9</td>\n",
       "    </tr>\n",
       "    <tr>\n",
       "      <th>3</th>\n",
       "      <td>Mary</td>\n",
       "      <td>N</td>\n",
       "      <td>7.7</td>\n",
       "    </tr>\n",
       "  </tbody>\n",
       "</table>\n",
       "</div>"
      ],
      "text/plain": [
       "    Names Initials  SEM1\n",
       "0     Joe        K   9.8\n",
       "1  Rajesh        M   8.9\n",
       "2  Kissan        V   9.9\n",
       "3    Mary        N   7.7"
      ]
     },
     "execution_count": 137,
     "metadata": {},
     "output_type": "execute_result"
    }
   ],
   "source": [
    "#access:\n",
    "demodf.iloc[0:4,0:3]#rows and col -index"
   ]
  },
  {
   "cell_type": "code",
   "execution_count": null,
   "id": "8ee431fe-fc06-4c21-908a-f1b9acfc0b4d",
   "metadata": {},
   "outputs": [],
   "source": []
  }
 ],
 "metadata": {
  "kernelspec": {
   "display_name": "Python 3 (ipykernel)",
   "language": "python",
   "name": "python3"
  },
  "language_info": {
   "codemirror_mode": {
    "name": "ipython",
    "version": 3
   },
   "file_extension": ".py",
   "mimetype": "text/x-python",
   "name": "python",
   "nbconvert_exporter": "python",
   "pygments_lexer": "ipython3",
   "version": "3.11.7"
  }
 },
 "nbformat": 4,
 "nbformat_minor": 5
}
